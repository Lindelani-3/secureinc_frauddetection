{
 "cells": [
  {
   "cell_type": "markdown",
   "metadata": {
    "application/vnd.databricks.v1+cell": {
     "cellMetadata": {},
     "inputWidgets": {},
     "nuid": "dae61fae-7fcb-4a86-a03f-062a7ac0da74",
     "showTitle": false,
     "title": ""
    }
   },
   "source": [
    "# Fraud Detection of Credit Card Transactions"
   ]
  },
  {
   "cell_type": "markdown",
   "metadata": {
    "application/vnd.databricks.v1+cell": {
     "cellMetadata": {},
     "inputWidgets": {},
     "nuid": "30397c69-8470-4f6b-a323-c4632aafab7a",
     "showTitle": false,
     "title": ""
    }
   },
   "source": [
    "## Project Overview:\n",
    "\n",
    "\n",
    "This project focused on developing a robust machine learning model to detect fraudulent transactions. Through comprehensive data analysis, preprocessing, model training, and evaluation, the project leveraged a range of technologies to address the challenges inherent in fraud detection."
   ]
  },
  {
   "cell_type": "markdown",
   "metadata": {
    "application/vnd.databricks.v1+cell": {
     "cellMetadata": {
      "byteLimit": 2048000,
      "rowLimit": 10000
     },
     "inputWidgets": {},
     "nuid": "7df69f7f-b6e3-4c89-9d44-019139cef493",
     "showTitle": false,
     "title": ""
    }
   },
   "source": [
    "## Import"
   ]
  },
  {
   "cell_type": "code",
   "execution_count": 0,
   "metadata": {
    "application/vnd.databricks.v1+cell": {
     "cellMetadata": {
      "byteLimit": 2048000,
      "rowLimit": 10000
     },
     "inputWidgets": {},
     "nuid": "96ab49ef-5d4e-459a-b4e8-464919f7cc5c",
     "showTitle": false,
     "title": ""
    }
   },
   "outputs": [],
   "source": [
    "dbutils.library.restartPython()\n",
    "# pip install azure-storage-blob pandas numpy imblearn scipy scikit-learn dash pandas plotly\n",
    "# pip install --upgrade scipy scikit-learn threadpoolctl "
   ]
  },
  {
   "cell_type": "code",
   "execution_count": 0,
   "metadata": {
    "application/vnd.databricks.v1+cell": {
     "cellMetadata": {
      "byteLimit": 2048000,
      "rowLimit": 10000
     },
     "inputWidgets": {},
     "nuid": "e18828bb-f928-461b-9893-3546bf2eb775",
     "showTitle": false,
     "title": ""
    }
   },
   "outputs": [],
   "source": [
    "from azure.storage.blob import BlobServiceClient, BlobClient, ContainerClient\n",
    "import pyspark.sql.functions as F\n",
    "from pyspark.sql import SparkSession\n",
    "import pandas as pd\n",
    "from io import StringIO\n",
    "import numpy as np\n",
    "import matplotlib.pyplot as plt\n",
    "import seaborn as sns\n",
    "from sklearn.model_selection import train_test_split, StratifiedKFold, cross_validate, cross_val_score\n",
    "from sklearn.preprocessing import StandardScaler, MinMaxScaler\n",
    "from imblearn.over_sampling import SMOTE\n",
    "from imblearn.under_sampling import RandomUnderSampler\n",
    "from imblearn.pipeline import Pipeline, make_pipeline\n",
    "from sklearn.ensemble import RandomForestClassifier\n",
    "from sklearn.metrics import classification_report, make_scorer, precision_recall_curve, auc, f1_score, roc_auc_score, accuracy_score, precision_score, recall_score\n",
    "from sklearn.linear_model import LogisticRegression, LassoCV\n",
    "from sklearn.neighbors import KNeighborsClassifier\n",
    "from sklearn.svm import SVC\n",
    "from sklearn.feature_selection import SelectKBest, chi2\n",
    "from sklearn.tree import DecisionTreeClassifier\n",
    "from sklearn.model_selection import GridSearchCV"
   ]
  },
  {
   "cell_type": "markdown",
   "metadata": {
    "application/vnd.databricks.v1+cell": {
     "cellMetadata": {
      "byteLimit": 2048000,
      "rowLimit": 10000
     },
     "inputWidgets": {},
     "nuid": "345e622c-99e3-434e-a1a6-46a9099a71cf",
     "showTitle": false,
     "title": ""
    }
   },
   "source": [
    "## Meta"
   ]
  },
  {
   "cell_type": "code",
   "execution_count": 0,
   "metadata": {
    "application/vnd.databricks.v1+cell": {
     "cellMetadata": {
      "byteLimit": 2048000,
      "rowLimit": 10000
     },
     "inputWidgets": {},
     "nuid": "b9aba988-bfc1-4800-be83-17fc7ca91576",
     "showTitle": false,
     "title": ""
    }
   },
   "outputs": [],
   "source": [
    "connect_str = \"DefaultEndpointsProtocol=https;AccountName=stgfinancialanalysis;AccountKey=goADDOu0wTscv9k97Zy7/vndYBE45jGalIZ0turswP77U2+0kJBc8Mlit7dYolCZiWI1r2uaEk40+AStoAoBUg==;EndpointSuffix=core.windows.net\"\n",
    "sas_token = \"?sv=2022-11-02&ss=bfqt&srt=sco&sp=rwdlacupiytfx&se=2024-02-07T18:19:14Z&st=2024-02-07T10:19:14Z&spr=https,http&sig=z6z4hp53zaHU9kK9CpUWNGg4vZOWdZlI3uuljFJWqIM%3D\"\n",
    "\n",
    "storage_account_name = \"stgfinancialanalysis\"\n",
    "container_name = \"creditcardfraud-container\"\n",
    "blob_name = \"creditcard.csv\""
   ]
  },
  {
   "cell_type": "markdown",
   "metadata": {
    "application/vnd.databricks.v1+cell": {
     "cellMetadata": {
      "byteLimit": 2048000,
      "rowLimit": 10000
     },
     "inputWidgets": {},
     "nuid": "be19cdab-b0e2-4426-8b0a-bc6dbd6861d6",
     "showTitle": false,
     "title": ""
    }
   },
   "source": [
    "## Data"
   ]
  },
  {
   "cell_type": "code",
   "execution_count": 0,
   "metadata": {
    "application/vnd.databricks.v1+cell": {
     "cellMetadata": {
      "byteLimit": 2048000,
      "rowLimit": 10000
     },
     "inputWidgets": {},
     "nuid": "8ebc41a1-cbbe-4a34-a173-57fd2cb63346",
     "showTitle": false,
     "title": ""
    }
   },
   "outputs": [],
   "source": [
    "def read_blob_into_df(blob_name):\n",
    "    blob_client = container_client.get_blob_client(blob_name)\n",
    "    blob_data = blob_client.download_blob().readall()\n",
    "    return pd.read_csv(StringIO(blob_data.decode('utf-8')))"
   ]
  },
  {
   "cell_type": "code",
   "execution_count": 0,
   "metadata": {
    "application/vnd.databricks.v1+cell": {
     "cellMetadata": {
      "byteLimit": 2048000,
      "rowLimit": 10000
     },
     "inputWidgets": {},
     "nuid": "a4fe1361-73f5-4cf9-b75d-d962fd7e4fbe",
     "showTitle": false,
     "title": ""
    }
   },
   "outputs": [
    {
     "output_type": "stream",
     "name": "stdout",
     "output_type": "stream",
     "text": [
      "Listing blobs in container...\n\tcreditcard.csv\n"
     ]
    }
   ],
   "source": [
    "blob_url = f\"https://{storage_account_name}.blob.core.windows.net\"\n",
    "blob_service_client = BlobServiceClient(account_url=blob_url, credential=sas_token)\n",
    "container_client = blob_service_client.get_container_client(container_name)\n",
    "\n",
    "print(\"Listing blobs in container...\")\n",
    "for blob in container_client.list_blobs():\n",
    "    print(\"\\t\" + blob.name)\n"
   ]
  },
  {
   "cell_type": "code",
   "execution_count": 0,
   "metadata": {
    "application/vnd.databricks.v1+cell": {
     "cellMetadata": {
      "byteLimit": 2048000,
      "rowLimit": 10000
     },
     "inputWidgets": {},
     "nuid": "7e4884aa-e3a9-455c-8a4c-97fa56b509e4",
     "showTitle": false,
     "title": ""
    }
   },
   "outputs": [
    {
     "output_type": "stream",
     "name": "stdout",
     "output_type": "stream",
     "text": [
      "Loaded creditcard.csv into DataFrame.\n"
     ]
    }
   ],
   "source": [
    "dfs = {}\n",
    "data = read_blob_into_df(blob_name)\n",
    "print(f\"Loaded {blob_name} into DataFrame.\")"
   ]
  },
  {
   "cell_type": "code",
   "execution_count": 0,
   "metadata": {
    "application/vnd.databricks.v1+cell": {
     "cellMetadata": {
      "byteLimit": 2048000,
      "rowLimit": 10000
     },
     "inputWidgets": {},
     "nuid": "54e59f6c-5169-40c7-87e6-6c9cc6d3e5c7",
     "showTitle": false,
     "title": ""
    }
   },
   "outputs": [
    {
     "output_type": "execute_result",
     "data": {
      "text/html": [
       "<div>\n",
       "<style scoped>\n",
       "    .dataframe tbody tr th:only-of-type {\n",
       "        vertical-align: middle;\n",
       "    }\n",
       "\n",
       "    .dataframe tbody tr th {\n",
       "        vertical-align: top;\n",
       "    }\n",
       "\n",
       "    .dataframe thead th {\n",
       "        text-align: right;\n",
       "    }\n",
       "</style>\n",
       "<table border=\"1\" class=\"dataframe\">\n",
       "  <thead>\n",
       "    <tr style=\"text-align: right;\">\n",
       "      <th></th>\n",
       "      <th>Time</th>\n",
       "      <th>V1</th>\n",
       "      <th>V2</th>\n",
       "      <th>V3</th>\n",
       "      <th>V4</th>\n",
       "      <th>V5</th>\n",
       "      <th>V6</th>\n",
       "      <th>V7</th>\n",
       "      <th>V8</th>\n",
       "      <th>V9</th>\n",
       "      <th>V10</th>\n",
       "      <th>V11</th>\n",
       "      <th>V12</th>\n",
       "      <th>V13</th>\n",
       "      <th>V14</th>\n",
       "      <th>V15</th>\n",
       "      <th>V16</th>\n",
       "      <th>V17</th>\n",
       "      <th>V18</th>\n",
       "      <th>V19</th>\n",
       "      <th>V20</th>\n",
       "      <th>V21</th>\n",
       "      <th>V22</th>\n",
       "      <th>V23</th>\n",
       "      <th>V24</th>\n",
       "      <th>V25</th>\n",
       "      <th>V26</th>\n",
       "      <th>V27</th>\n",
       "      <th>V28</th>\n",
       "      <th>Amount</th>\n",
       "      <th>Class</th>\n",
       "    </tr>\n",
       "  </thead>\n",
       "  <tbody>\n",
       "    <tr>\n",
       "      <th>0</th>\n",
       "      <td>0.0</td>\n",
       "      <td>-1.359807</td>\n",
       "      <td>-0.072781</td>\n",
       "      <td>2.536347</td>\n",
       "      <td>1.378155</td>\n",
       "      <td>-0.338321</td>\n",
       "      <td>0.462388</td>\n",
       "      <td>0.239599</td>\n",
       "      <td>0.098698</td>\n",
       "      <td>0.363787</td>\n",
       "      <td>0.090794</td>\n",
       "      <td>-0.551600</td>\n",
       "      <td>-0.617801</td>\n",
       "      <td>-0.991390</td>\n",
       "      <td>-0.311169</td>\n",
       "      <td>1.468177</td>\n",
       "      <td>-0.470401</td>\n",
       "      <td>0.207971</td>\n",
       "      <td>0.025791</td>\n",
       "      <td>0.403993</td>\n",
       "      <td>0.251412</td>\n",
       "      <td>-0.018307</td>\n",
       "      <td>0.277838</td>\n",
       "      <td>-0.110474</td>\n",
       "      <td>0.066928</td>\n",
       "      <td>0.128539</td>\n",
       "      <td>-0.189115</td>\n",
       "      <td>0.133558</td>\n",
       "      <td>-0.021053</td>\n",
       "      <td>149.62</td>\n",
       "      <td>0</td>\n",
       "    </tr>\n",
       "    <tr>\n",
       "      <th>1</th>\n",
       "      <td>0.0</td>\n",
       "      <td>1.191857</td>\n",
       "      <td>0.266151</td>\n",
       "      <td>0.166480</td>\n",
       "      <td>0.448154</td>\n",
       "      <td>0.060018</td>\n",
       "      <td>-0.082361</td>\n",
       "      <td>-0.078803</td>\n",
       "      <td>0.085102</td>\n",
       "      <td>-0.255425</td>\n",
       "      <td>-0.166974</td>\n",
       "      <td>1.612727</td>\n",
       "      <td>1.065235</td>\n",
       "      <td>0.489095</td>\n",
       "      <td>-0.143772</td>\n",
       "      <td>0.635558</td>\n",
       "      <td>0.463917</td>\n",
       "      <td>-0.114805</td>\n",
       "      <td>-0.183361</td>\n",
       "      <td>-0.145783</td>\n",
       "      <td>-0.069083</td>\n",
       "      <td>-0.225775</td>\n",
       "      <td>-0.638672</td>\n",
       "      <td>0.101288</td>\n",
       "      <td>-0.339846</td>\n",
       "      <td>0.167170</td>\n",
       "      <td>0.125895</td>\n",
       "      <td>-0.008983</td>\n",
       "      <td>0.014724</td>\n",
       "      <td>2.69</td>\n",
       "      <td>0</td>\n",
       "    </tr>\n",
       "    <tr>\n",
       "      <th>2</th>\n",
       "      <td>1.0</td>\n",
       "      <td>-1.358354</td>\n",
       "      <td>-1.340163</td>\n",
       "      <td>1.773209</td>\n",
       "      <td>0.379780</td>\n",
       "      <td>-0.503198</td>\n",
       "      <td>1.800499</td>\n",
       "      <td>0.791461</td>\n",
       "      <td>0.247676</td>\n",
       "      <td>-1.514654</td>\n",
       "      <td>0.207643</td>\n",
       "      <td>0.624501</td>\n",
       "      <td>0.066084</td>\n",
       "      <td>0.717293</td>\n",
       "      <td>-0.165946</td>\n",
       "      <td>2.345865</td>\n",
       "      <td>-2.890083</td>\n",
       "      <td>1.109969</td>\n",
       "      <td>-0.121359</td>\n",
       "      <td>-2.261857</td>\n",
       "      <td>0.524980</td>\n",
       "      <td>0.247998</td>\n",
       "      <td>0.771679</td>\n",
       "      <td>0.909412</td>\n",
       "      <td>-0.689281</td>\n",
       "      <td>-0.327642</td>\n",
       "      <td>-0.139097</td>\n",
       "      <td>-0.055353</td>\n",
       "      <td>-0.059752</td>\n",
       "      <td>378.66</td>\n",
       "      <td>0</td>\n",
       "    </tr>\n",
       "    <tr>\n",
       "      <th>3</th>\n",
       "      <td>1.0</td>\n",
       "      <td>-0.966272</td>\n",
       "      <td>-0.185226</td>\n",
       "      <td>1.792993</td>\n",
       "      <td>-0.863291</td>\n",
       "      <td>-0.010309</td>\n",
       "      <td>1.247203</td>\n",
       "      <td>0.237609</td>\n",
       "      <td>0.377436</td>\n",
       "      <td>-1.387024</td>\n",
       "      <td>-0.054952</td>\n",
       "      <td>-0.226487</td>\n",
       "      <td>0.178228</td>\n",
       "      <td>0.507757</td>\n",
       "      <td>-0.287924</td>\n",
       "      <td>-0.631418</td>\n",
       "      <td>-1.059647</td>\n",
       "      <td>-0.684093</td>\n",
       "      <td>1.965775</td>\n",
       "      <td>-1.232622</td>\n",
       "      <td>-0.208038</td>\n",
       "      <td>-0.108300</td>\n",
       "      <td>0.005274</td>\n",
       "      <td>-0.190321</td>\n",
       "      <td>-1.175575</td>\n",
       "      <td>0.647376</td>\n",
       "      <td>-0.221929</td>\n",
       "      <td>0.062723</td>\n",
       "      <td>0.061458</td>\n",
       "      <td>123.50</td>\n",
       "      <td>0</td>\n",
       "    </tr>\n",
       "    <tr>\n",
       "      <th>4</th>\n",
       "      <td>2.0</td>\n",
       "      <td>-1.158233</td>\n",
       "      <td>0.877737</td>\n",
       "      <td>1.548718</td>\n",
       "      <td>0.403034</td>\n",
       "      <td>-0.407193</td>\n",
       "      <td>0.095921</td>\n",
       "      <td>0.592941</td>\n",
       "      <td>-0.270533</td>\n",
       "      <td>0.817739</td>\n",
       "      <td>0.753074</td>\n",
       "      <td>-0.822843</td>\n",
       "      <td>0.538196</td>\n",
       "      <td>1.345852</td>\n",
       "      <td>-1.119670</td>\n",
       "      <td>0.175121</td>\n",
       "      <td>-0.451449</td>\n",
       "      <td>-0.237033</td>\n",
       "      <td>-0.038195</td>\n",
       "      <td>0.803487</td>\n",
       "      <td>0.408542</td>\n",
       "      <td>-0.009431</td>\n",
       "      <td>0.798278</td>\n",
       "      <td>-0.137458</td>\n",
       "      <td>0.141267</td>\n",
       "      <td>-0.206010</td>\n",
       "      <td>0.502292</td>\n",
       "      <td>0.219422</td>\n",
       "      <td>0.215153</td>\n",
       "      <td>69.99</td>\n",
       "      <td>0</td>\n",
       "    </tr>\n",
       "  </tbody>\n",
       "</table>\n",
       "</div>"
      ],
      "text/plain": [
       "   Time        V1        V2        V3  ...       V27       V28  Amount  Class\n",
       "0   0.0 -1.359807 -0.072781  2.536347  ...  0.133558 -0.021053  149.62      0\n",
       "1   0.0  1.191857  0.266151  0.166480  ... -0.008983  0.014724    2.69      0\n",
       "2   1.0 -1.358354 -1.340163  1.773209  ... -0.055353 -0.059752  378.66      0\n",
       "3   1.0 -0.966272 -0.185226  1.792993  ...  0.062723  0.061458  123.50      0\n",
       "4   2.0 -1.158233  0.877737  1.548718  ...  0.219422  0.215153   69.99      0\n",
       "\n",
       "[5 rows x 31 columns]"
      ]
     },
     "execution_count": 6,
     "metadata": {},
     "output_type": "execute_result"
    }
   ],
   "source": [
    "# df = data.sample(n=6000, random_state=42)\n",
    "df = data.copy()\n",
    "df.head()"
   ]
  },
  {
   "cell_type": "markdown",
   "metadata": {
    "application/vnd.databricks.v1+cell": {
     "cellMetadata": {
      "byteLimit": 2048000,
      "rowLimit": 10000
     },
     "inputWidgets": {},
     "nuid": "1f0917d7-9ace-4466-8817-569e4def6b6d",
     "showTitle": false,
     "title": ""
    }
   },
   "source": [
    "## Feature Engineering"
   ]
  },
  {
   "cell_type": "code",
   "execution_count": 0,
   "metadata": {
    "application/vnd.databricks.v1+cell": {
     "cellMetadata": {
      "byteLimit": 2048000,
      "rowLimit": 10000
     },
     "inputWidgets": {},
     "nuid": "f89f45c1-734a-4743-859e-7f79296331e9",
     "showTitle": false,
     "title": ""
    }
   },
   "outputs": [],
   "source": [
    "data['HourOfDay'] = np.floor(data['Time'] / 3600) % 24  # Convert seconds to hours and get the hour of the day\n",
    "\n",
    "data['LogAmount'] = np.log(data['Amount'] + 1)  # Log transform to reduce skewness; +1 to handle transactions with Amount 0\n",
    "\n",
    "# Cyclical Feature Engineering\n",
    "data['HourSin'] = np.sin(2 * np.pi * data['HourOfDay'] / 24)\n",
    "data['HourCos'] = np.cos(2 * np.pi * data['HourOfDay'] / 24)\n",
    "\n",
    "# Rolling Window Statistics\n",
    "# As an example, calculate the rolling mean of 'Amount' over a window of 10 transactions\n",
    "# df['RollingMeanAmount'] = df['LogAmount'].rolling(window=10).mean()\n"
   ]
  },
  {
   "cell_type": "markdown",
   "metadata": {
    "application/vnd.databricks.v1+cell": {
     "cellMetadata": {
      "byteLimit": 2048000,
      "rowLimit": 10000
     },
     "inputWidgets": {},
     "nuid": "830fa735-0a7a-43bd-aabe-76eedcf3fbc3",
     "showTitle": false,
     "title": ""
    }
   },
   "source": [
    "## Feature Selection"
   ]
  },
  {
   "cell_type": "code",
   "execution_count": 0,
   "metadata": {
    "application/vnd.databricks.v1+cell": {
     "cellMetadata": {
      "byteLimit": 2048000,
      "rowLimit": 10000
     },
     "inputWidgets": {},
     "nuid": "41998c05-d0ec-4736-aed3-0cb6c9bdc777",
     "showTitle": false,
     "title": ""
    }
   },
   "outputs": [],
   "source": [
    "def apply_scaling(X, method='standard', return_type='df'):\n",
    "    if method == 'standard':\n",
    "        scaler = StandardScaler()\n",
    "    elif method == 'minmax':\n",
    "        scaler = MinMaxScaler()\n",
    "    else:\n",
    "        raise ValueError(\"Unsupported scaling method. Choose 'standard' or 'minmax'.\")\n",
    "    \n",
    "    X_scaled = scaler.fit_transform(X)\n",
    "    if return_type == 'df':\n",
    "        return pd.DataFrame(X_scaled, columns=X.columns)\n",
    "    elif return_type == 'np':\n",
    "        return X_scaled\n",
    "    else:\n",
    "        raise ValueError(\"Unsupported return type. Choose 'df' or 'array'.\")\n"
   ]
  },
  {
   "cell_type": "code",
   "execution_count": 0,
   "metadata": {
    "application/vnd.databricks.v1+cell": {
     "cellMetadata": {
      "byteLimit": 2048000,
      "rowLimit": 10000
     },
     "inputWidgets": {},
     "nuid": "ded4982d-00c2-4ba2-9208-f9d0765fe4ee",
     "showTitle": false,
     "title": ""
    }
   },
   "outputs": [],
   "source": [
    "def select_features_pearson(X, y, threshold=0.1):\n",
    "    corr_with_target = X.corrwith(y).abs()\n",
    "    selected_features = corr_with_target[corr_with_target > threshold].index.tolist()\n",
    "    return selected_features\n",
    "\n",
    "def select_features_decision_tree(X, y, threshold=0.01):\n",
    "    clf = DecisionTreeClassifier(random_state=42)\n",
    "    clf.fit(X, y)\n",
    "    important_features = [feature for importance, feature in zip(clf.feature_importances_, X.columns) if importance > threshold]\n",
    "    return important_features\n",
    "\n",
    "\n",
    "def select_features_lasso(X, y, cv=5):\n",
    "    lasso = LassoCV(cv=cv, random_state=42).fit(X, y)\n",
    "    important_features = X.columns[lasso.coef_ != 0].tolist()\n",
    "    return important_features\n",
    "\n",
    "\n",
    "def select_features_chi2(X, y, k=10):\n",
    "    chi_selector = SelectKBest(chi2, k=k)\n",
    "    chi_selector.fit(X, y)\n",
    "    selected_features = X.columns[chi_selector.get_support(indices=True)].tolist()\n",
    "    return selected_features"
   ]
  },
  {
   "cell_type": "code",
   "execution_count": 0,
   "metadata": {
    "application/vnd.databricks.v1+cell": {
     "cellMetadata": {
      "byteLimit": 2048000,
      "rowLimit": 10000
     },
     "inputWidgets": {},
     "nuid": "992661f6-ac13-42be-88fb-9a8ec6026b4d",
     "showTitle": false,
     "title": ""
    }
   },
   "outputs": [],
   "source": [
    "def evaluate_feature_set(X, y, selected_features):\n",
    "    X_selected = X[selected_features]\n",
    "    X_train, X_test, y_train, y_test = train_test_split(X_selected, y, test_size=0.3, random_state=42)\n",
    "    clf = RandomForestClassifier(n_estimators=100, random_state=42)\n",
    "    clf.fit(X_train, y_train)\n",
    "    y_pred = clf.predict(X_test)\n",
    "    return classification_report(y_test, y_pred, zero_division=1)\n"
   ]
  },
  {
   "cell_type": "markdown",
   "metadata": {
    "application/vnd.databricks.v1+cell": {
     "cellMetadata": {
      "byteLimit": 2048000,
      "rowLimit": 10000
     },
     "inputWidgets": {},
     "nuid": "a1a296a9-6b9b-45d7-a2d4-a15847d1997c",
     "showTitle": false,
     "title": ""
    }
   },
   "source": [
    "### Evaluation of Feature Sets"
   ]
  },
  {
   "cell_type": "code",
   "execution_count": 0,
   "metadata": {
    "application/vnd.databricks.v1+cell": {
     "cellMetadata": {
      "byteLimit": 2048000,
      "rowLimit": 10000
     },
     "inputWidgets": {},
     "nuid": "6279bd4d-2ba4-42a6-89e8-ae79e3c1fe57",
     "showTitle": false,
     "title": ""
    }
   },
   "outputs": [],
   "source": [
    "df = data.copy()\n",
    "X = df.drop(['Class'], axis=1)  \n",
    "y = df['Class']"
   ]
  },
  {
   "cell_type": "code",
   "execution_count": 0,
   "metadata": {
    "application/vnd.databricks.v1+cell": {
     "cellMetadata": {
      "byteLimit": 2048000,
      "rowLimit": 10000
     },
     "inputWidgets": {},
     "nuid": "c0914c16-1c2a-4f86-a2ab-568de1b5ba98",
     "showTitle": false,
     "title": ""
    }
   },
   "outputs": [],
   "source": [
    "X_standard_df = apply_scaling(X, method='standard', return_type='df')\n",
    "X_standard_df.reset_index(drop=True, inplace=True)\n",
    "\n",
    "X_minmax_df = apply_scaling(X, method='minmax', return_type='df')\n",
    "X_minmax_df.reset_index(drop=True, inplace=True)\n",
    "\n",
    "y.reset_index(drop=True, inplace=True)"
   ]
  },
  {
   "cell_type": "code",
   "execution_count": 0,
   "metadata": {
    "application/vnd.databricks.v1+cell": {
     "cellMetadata": {
      "byteLimit": 2048000,
      "rowLimit": 10000
     },
     "inputWidgets": {},
     "nuid": "b9b56f80-0acc-4613-9b83-4502d3dbb7b3",
     "showTitle": false,
     "title": ""
    }
   },
   "outputs": [
    {
     "output_type": "stream",
     "name": "stdout",
     "output_type": "stream",
     "text": [
      "Selected features using Pearson's Coefficient: ['V10', 'V12', 'V14', 'V17']\n\n\nPearson's Coefficient Performance:\n              precision    recall  f1-score   support\n\n           0       1.00      1.00      1.00     85307\n           1       0.93      0.82      0.88       136\n\n    accuracy                           1.00     85443\n   macro avg       0.97      0.91      0.94     85443\nweighted avg       1.00      1.00      1.00     85443\n\n"
     ]
    }
   ],
   "source": [
    "features_pearson = select_features_pearson(X_standard_df, y, 0.2)\n",
    "print(\"Selected features using Pearson's Coefficient:\", features_pearson)\n",
    "print(\"\\n\\nPearson's Coefficient Performance:\")\n",
    "print(evaluate_feature_set(X_standard_df, y, features_pearson))"
   ]
  },
  {
   "cell_type": "code",
   "execution_count": 0,
   "metadata": {
    "application/vnd.databricks.v1+cell": {
     "cellMetadata": {
      "byteLimit": 2048000,
      "rowLimit": 10000
     },
     "inputWidgets": {},
     "nuid": "f086ceaa-1244-459b-b823-31fb19c27797",
     "showTitle": false,
     "title": ""
    }
   },
   "outputs": [
    {
     "output_type": "stream",
     "name": "stdout",
     "output_type": "stream",
     "text": [
      "Selected features using Chi-Squared Test: ['V4', 'V10', 'V11', 'V12', 'V14', 'V16', 'V17', 'V18', 'HourOfDay', 'HourSin']\n\n\nChi-Squared Test Performance:\n              precision    recall  f1-score   support\n\n           0       1.00      1.00      1.00     85307\n           1       0.95      0.81      0.87       136\n\n    accuracy                           1.00     85443\n   macro avg       0.97      0.90      0.94     85443\nweighted avg       1.00      1.00      1.00     85443\n\n"
     ]
    }
   ],
   "source": [
    "features_chi2 = select_features_chi2(X_minmax_df, y, k=10)\n",
    "print(\"Selected features using Chi-Squared Test:\", features_chi2)\n",
    "print(\"\\n\\nChi-Squared Test Performance:\")\n",
    "print(evaluate_feature_set(X_minmax_df, y, features_chi2))"
   ]
  },
  {
   "cell_type": "code",
   "execution_count": 0,
   "metadata": {
    "application/vnd.databricks.v1+cell": {
     "cellMetadata": {
      "byteLimit": 2048000,
      "rowLimit": 10000
     },
     "inputWidgets": {},
     "nuid": "81b6aa0a-da49-4cc8-a628-d8b6567ad01d",
     "showTitle": false,
     "title": ""
    }
   },
   "outputs": [
    {
     "output_type": "stream",
     "name": "stdout",
     "output_type": "stream",
     "text": [
      "Selected features using Decision Trees: ['V14', 'V17']\n\n\nDecision Trees Performance:\n              precision    recall  f1-score   support\n\n           0       1.00      1.00      1.00     85307\n           1       0.86      0.72      0.78       136\n\n    accuracy                           1.00     85443\n   macro avg       0.93      0.86      0.89     85443\nweighted avg       1.00      1.00      1.00     85443\n\n"
     ]
    }
   ],
   "source": [
    "features_decision_tree = select_features_decision_tree(X_standard_df, y, 0.1)\n",
    "print(\"Selected features using Decision Trees:\", features_decision_tree)\n",
    "print(\"\\n\\nDecision Trees Performance:\")\n",
    "print(evaluate_feature_set(X_standard_df, y, features_decision_tree))"
   ]
  },
  {
   "cell_type": "code",
   "execution_count": 0,
   "metadata": {
    "application/vnd.databricks.v1+cell": {
     "cellMetadata": {
      "byteLimit": 2048000,
      "rowLimit": 10000
     },
     "inputWidgets": {},
     "nuid": "4283dfe7-62c2-4499-b302-62358673bea5",
     "showTitle": false,
     "title": ""
    }
   },
   "outputs": [
    {
     "output_type": "stream",
     "name": "stdout",
     "output_type": "stream",
     "text": [
      "Selected features using Lasso Regularization: ['V1', 'V2', 'V3', 'V4', 'V5', 'V6', 'V7', 'V9', 'V10', 'V11', 'V12', 'V14', 'V16', 'V17', 'V18', 'V19', 'V21']\n\n\nLasso Regularization Performance:\n              precision    recall  f1-score   support\n\n           0       1.00      1.00      1.00     85307\n           1       0.93      0.82      0.88       136\n\n    accuracy                           1.00     85443\n   macro avg       0.97      0.91      0.94     85443\nweighted avg       1.00      1.00      1.00     85443\n\n"
     ]
    }
   ],
   "source": [
    "features_lasso = select_features_lasso(X_standard_df, y)\n",
    "print(\"Selected features using Lasso Regularization:\", features_lasso)\n",
    "print(\"\\n\\nLasso Regularization Performance:\")\n",
    "print(evaluate_feature_set(X_standard_df, y, features_lasso))\n"
   ]
  },
  {
   "cell_type": "markdown",
   "metadata": {
    "application/vnd.databricks.v1+cell": {
     "cellMetadata": {
      "byteLimit": 2048000,
      "rowLimit": 10000
     },
     "inputWidgets": {},
     "nuid": "9e6b949d-5cc8-42da-8423-8330f281d1fc",
     "showTitle": false,
     "title": ""
    }
   },
   "source": [
    "## Class Imbalancing Handling"
   ]
  },
  {
   "cell_type": "code",
   "execution_count": 0,
   "metadata": {
    "application/vnd.databricks.v1+cell": {
     "cellMetadata": {
      "byteLimit": 2048000,
      "rowLimit": 10000
     },
     "inputWidgets": {},
     "nuid": "aa09a178-4007-434e-a51b-c44db115bdde",
     "showTitle": false,
     "title": ""
    }
   },
   "outputs": [],
   "source": [
    "def resample_dataset(X, y, strategy='smote'):\n",
    "    if strategy == 'smote':\n",
    "        resampler = SMOTE(random_state=42)\n",
    "    elif strategy == 'under':\n",
    "        resampler = RandomUnderSampler(random_state=42)\n",
    "    else:\n",
    "        raise ValueError(\"Unsupported resampling strategy. Choose 'smote' or 'under'.\")\n",
    "    \n",
    "    X_res, y_res = resampler.fit_resample(X, y)\n",
    "    return X_res, y_res\n"
   ]
  },
  {
   "cell_type": "markdown",
   "metadata": {
    "application/vnd.databricks.v1+cell": {
     "cellMetadata": {
      "byteLimit": 2048000,
      "rowLimit": 10000
     },
     "inputWidgets": {},
     "nuid": "d3126ef7-b869-422b-9b87-6bc7c7be54fa",
     "showTitle": false,
     "title": ""
    }
   },
   "source": [
    "### Cross Validation of Resampling"
   ]
  },
  {
   "cell_type": "code",
   "execution_count": 0,
   "metadata": {
    "application/vnd.databricks.v1+cell": {
     "cellMetadata": {
      "byteLimit": 2048000,
      "rowLimit": 10000
     },
     "inputWidgets": {},
     "nuid": "e284c12d-a1c9-4233-83eb-1fcadf944218",
     "showTitle": false,
     "title": ""
    }
   },
   "outputs": [],
   "source": [
    "def pr_auc(y_true, y_pred):\n",
    "    precision, recall, _ = precision_recall_curve(y_true, y_pred)\n",
    "    return auc(recall, precision)\n",
    "\n",
    "\n",
    "def validate_resampling(X, y, type='smote'):\n",
    "    cv = StratifiedKFold(n_splits=5, shuffle=True, random_state=42)\n",
    "    classifier = RandomForestClassifier(random_state=42)\n",
    "\n",
    "    if type == 'smote':\n",
    "        pipeline = make_pipeline(SMOTE(random_state=42), classifier)\n",
    "    elif type == \"under\":  \n",
    "        pipeline = make_pipeline(RandomUnderSampler(random_state=42), classifier)\n",
    "    else:\n",
    "        print('invalid resampling type')\n",
    "        return\n",
    "\n",
    "    scoring = {'pr_auc': make_scorer(pr_auc)}\n",
    "\n",
    "    cv_results = cross_validate(pipeline, X, y, cv=cv, scoring=scoring, return_train_score=True)\n",
    "\n",
    "    return cv_results\n"
   ]
  },
  {
   "cell_type": "code",
   "execution_count": 0,
   "metadata": {
    "application/vnd.databricks.v1+cell": {
     "cellMetadata": {
      "byteLimit": 2048000,
      "rowLimit": 10000
     },
     "inputWidgets": {},
     "nuid": "82c0415e-24c5-471d-be61-10480d58ba44",
     "showTitle": false,
     "title": ""
    }
   },
   "outputs": [],
   "source": [
    "df_rs = data.sample(n=3000, random_state=42)\n",
    "X = df.drop(['Class'], axis=1)  \n",
    "y = df['Class']"
   ]
  },
  {
   "cell_type": "code",
   "execution_count": 0,
   "metadata": {
    "application/vnd.databricks.v1+cell": {
     "cellMetadata": {
      "byteLimit": 2048000,
      "rowLimit": 10000
     },
     "inputWidgets": {},
     "nuid": "ab6543b4-9d9c-4181-b496-1790bf6a45b6",
     "showTitle": false,
     "title": ""
    }
   },
   "outputs": [
    {
     "output_type": "stream",
     "name": "stdout",
     "output_type": "stream",
     "text": [
      "Mean PR AUC (Train): 1.0\nMean PR AUC (Test): 0.8630269832316138\n"
     ]
    }
   ],
   "source": [
    "results = validate_resampling(X, y, type='smote')\n",
    "\n",
    "print(f\"Mean PR AUC (Train): {np.mean(results['train_pr_auc'])}\")\n",
    "print(f\"Mean PR AUC (Test): {np.mean(results['test_pr_auc'])}\")\n"
   ]
  },
  {
   "cell_type": "markdown",
   "metadata": {
    "application/vnd.databricks.v1+cell": {
     "cellMetadata": {},
     "inputWidgets": {},
     "nuid": "c6996224-148b-4ab3-8e9b-2a5b6d36c2d1",
     "showTitle": false,
     "title": ""
    }
   },
   "source": [
    "A PR AUC of 0.86 is still considered very good, indicating that the model has a high ability to distinguish between classes even in the test set. This suggests that SMOTE has effectively addressed the class imbalance problem, improving model performance on minority class predictions."
   ]
  },
  {
   "cell_type": "code",
   "execution_count": 0,
   "metadata": {
    "application/vnd.databricks.v1+cell": {
     "cellMetadata": {
      "byteLimit": 2048000,
      "rowLimit": 10000
     },
     "inputWidgets": {},
     "nuid": "db8e1e5c-cd4f-4f54-af5c-8f82f5f15b72",
     "showTitle": false,
     "title": ""
    }
   },
   "outputs": [
    {
     "output_type": "stream",
     "name": "stdout",
     "output_type": "stream",
     "text": [
      "Mean PR AUC (Train): 0.5353852169501423\nMean PR AUC (Test): 0.48664868855425825\n"
     ]
    }
   ],
   "source": [
    "results = validate_resampling(X, y, type='under')\n",
    "\n",
    "print(f\"Mean PR AUC (Train): {np.mean(results['train_pr_auc'])}\")\n",
    "print(f\"Mean PR AUC (Test): {np.mean(results['test_pr_auc'])}\")"
   ]
  },
  {
   "cell_type": "markdown",
   "metadata": {
    "application/vnd.databricks.v1+cell": {
     "cellMetadata": {},
     "inputWidgets": {},
     "nuid": "da2d0247-674c-4286-9412-d598c46e1593",
     "showTitle": false,
     "title": ""
    }
   },
   "source": [
    "SMOTE shows significantly better performance than Under Sampling, on both of our smaller training and test data, making it the preferred choice for dealing with class imbalance in this scenario."
   ]
  },
  {
   "cell_type": "markdown",
   "metadata": {
    "application/vnd.databricks.v1+cell": {
     "cellMetadata": {
      "byteLimit": 2048000,
      "rowLimit": 10000
     },
     "inputWidgets": {},
     "nuid": "2394e668-24b4-4719-b4d9-76020bf689d0",
     "showTitle": false,
     "title": ""
    }
   },
   "source": [
    "## Data Preparation"
   ]
  },
  {
   "cell_type": "code",
   "execution_count": 0,
   "metadata": {
    "application/vnd.databricks.v1+cell": {
     "cellMetadata": {
      "byteLimit": 2048000,
      "rowLimit": 10000
     },
     "inputWidgets": {},
     "nuid": "7c9d05ff-4d52-4d18-9a3c-283113849ed4",
     "showTitle": false,
     "title": ""
    }
   },
   "outputs": [],
   "source": [
    "selected_features = ['V14', 'V17', 'V10', 'V12', 'V4', 'V16', 'V11', 'V18', 'V1']\n",
    "X = data[selected_features]\n",
    "y = data['Class']"
   ]
  },
  {
   "cell_type": "code",
   "execution_count": 0,
   "metadata": {
    "application/vnd.databricks.v1+cell": {
     "cellMetadata": {
      "byteLimit": 2048000,
      "rowLimit": 10000
     },
     "inputWidgets": {},
     "nuid": "fbf0600b-534e-43a7-b8eb-fe1ff7d870b4",
     "showTitle": false,
     "title": ""
    }
   },
   "outputs": [],
   "source": [
    "X_tr, X_val, y_tr, y_val = train_test_split(X, y, test_size=0.2, random_state=42)\n",
    "\n",
    "X_resampled, y_resampled = resample_dataset(X_tr, y_tr, strategy='under')\n",
    "X_val, y_val = resample_dataset(X_val, y_val, strategy='under')\n",
    "\n",
    "X_standard_np = apply_scaling(X_resampled, method='minmax', return_type='df')\n",
    "X_val = apply_scaling(X_val, method='minmax', return_type='df')\n",
    "\n",
    "y_resampled.reset_index(drop=True, inplace=True)\n",
    "y_val.reset_index(drop=True, inplace=True)\n",
    "\n",
    "X_train, X_test, y_train, y_test = train_test_split(X_standard_np, y_resampled, test_size=0.4, random_state=42)"
   ]
  },
  {
   "cell_type": "code",
   "execution_count": 0,
   "metadata": {
    "application/vnd.databricks.v1+cell": {
     "cellMetadata": {
      "byteLimit": 2048000,
      "rowLimit": 10000
     },
     "inputWidgets": {},
     "nuid": "bde1db31-dfd6-489c-a457-ded2ce2896ff",
     "showTitle": false,
     "title": ""
    }
   },
   "outputs": [
    {
     "output_type": "execute_result",
     "data": {
      "text/html": [
       "<div>\n",
       "<style scoped>\n",
       "    .dataframe tbody tr th:only-of-type {\n",
       "        vertical-align: middle;\n",
       "    }\n",
       "\n",
       "    .dataframe tbody tr th {\n",
       "        vertical-align: top;\n",
       "    }\n",
       "\n",
       "    .dataframe thead th {\n",
       "        text-align: right;\n",
       "    }\n",
       "</style>\n",
       "<table border=\"1\" class=\"dataframe\">\n",
       "  <thead>\n",
       "    <tr style=\"text-align: right;\">\n",
       "      <th></th>\n",
       "      <th>V14</th>\n",
       "      <th>V17</th>\n",
       "      <th>V10</th>\n",
       "      <th>V12</th>\n",
       "      <th>V4</th>\n",
       "      <th>V16</th>\n",
       "      <th>V11</th>\n",
       "      <th>V18</th>\n",
       "      <th>V1</th>\n",
       "    </tr>\n",
       "  </thead>\n",
       "  <tbody>\n",
       "    <tr>\n",
       "      <th>256</th>\n",
       "      <td>0.800626</td>\n",
       "      <td>0.782021</td>\n",
       "      <td>0.665601</td>\n",
       "      <td>0.883542</td>\n",
       "      <td>0.309752</td>\n",
       "      <td>0.824478</td>\n",
       "      <td>0.157691</td>\n",
       "      <td>0.715912</td>\n",
       "      <td>0.964707</td>\n",
       "    </tr>\n",
       "    <tr>\n",
       "      <th>620</th>\n",
       "      <td>0.414984</td>\n",
       "      <td>0.503682</td>\n",
       "      <td>0.573740</td>\n",
       "      <td>0.548771</td>\n",
       "      <td>0.310638</td>\n",
       "      <td>0.548816</td>\n",
       "      <td>0.462808</td>\n",
       "      <td>0.482818</td>\n",
       "      <td>0.831718</td>\n",
       "    </tr>\n",
       "    <tr>\n",
       "      <th>377</th>\n",
       "      <td>0.816174</td>\n",
       "      <td>0.803346</td>\n",
       "      <td>0.666704</td>\n",
       "      <td>0.906723</td>\n",
       "      <td>0.323260</td>\n",
       "      <td>0.767967</td>\n",
       "      <td>0.211224</td>\n",
       "      <td>0.629829</td>\n",
       "      <td>0.961242</td>\n",
       "    </tr>\n",
       "    <tr>\n",
       "      <th>327</th>\n",
       "      <td>0.812264</td>\n",
       "      <td>0.793257</td>\n",
       "      <td>0.653077</td>\n",
       "      <td>0.891671</td>\n",
       "      <td>0.273051</td>\n",
       "      <td>0.830916</td>\n",
       "      <td>0.138791</td>\n",
       "      <td>0.720541</td>\n",
       "      <td>0.837120</td>\n",
       "    </tr>\n",
       "    <tr>\n",
       "      <th>465</th>\n",
       "      <td>0.662197</td>\n",
       "      <td>0.540321</td>\n",
       "      <td>0.529738</td>\n",
       "      <td>0.682883</td>\n",
       "      <td>0.373028</td>\n",
       "      <td>0.522619</td>\n",
       "      <td>0.408248</td>\n",
       "      <td>0.457748</td>\n",
       "      <td>0.736374</td>\n",
       "    </tr>\n",
       "  </tbody>\n",
       "</table>\n",
       "</div>"
      ],
      "text/plain": [
       "          V14       V17       V10  ...       V11       V18        V1\n",
       "256  0.800626  0.782021  0.665601  ...  0.157691  0.715912  0.964707\n",
       "620  0.414984  0.503682  0.573740  ...  0.462808  0.482818  0.831718\n",
       "377  0.816174  0.803346  0.666704  ...  0.211224  0.629829  0.961242\n",
       "327  0.812264  0.793257  0.653077  ...  0.138791  0.720541  0.837120\n",
       "465  0.662197  0.540321  0.529738  ...  0.408248  0.457748  0.736374\n",
       "\n",
       "[5 rows x 9 columns]"
      ]
     },
     "execution_count": 88,
     "metadata": {},
     "output_type": "execute_result"
    }
   ],
   "source": [
    "X_train.head()"
   ]
  },
  {
   "cell_type": "code",
   "execution_count": 0,
   "metadata": {
    "application/vnd.databricks.v1+cell": {
     "cellMetadata": {
      "byteLimit": 2048000,
      "rowLimit": 10000
     },
     "inputWidgets": {},
     "nuid": "29c78f9f-7b44-4332-8df9-dbab9fa84b05",
     "showTitle": false,
     "title": ""
    }
   },
   "outputs": [
    {
     "output_type": "execute_result",
     "data": {
      "text/plain": [
       "256    0\n",
       "620    1\n",
       "377    0\n",
       "327    0\n",
       "465    1\n",
       "Name: Class, dtype: int64"
      ]
     },
     "execution_count": 89,
     "metadata": {},
     "output_type": "execute_result"
    }
   ],
   "source": [
    "y_train.head()"
   ]
  },
  {
   "cell_type": "markdown",
   "metadata": {
    "application/vnd.databricks.v1+cell": {
     "cellMetadata": {
      "byteLimit": 2048000,
      "rowLimit": 10000
     },
     "inputWidgets": {},
     "nuid": "2bb76466-f4e3-469c-855b-187066872c5b",
     "showTitle": false,
     "title": ""
    }
   },
   "source": [
    "## Fraud Detection Models"
   ]
  },
  {
   "cell_type": "code",
   "execution_count": 0,
   "metadata": {
    "application/vnd.databricks.v1+cell": {
     "cellMetadata": {
      "byteLimit": 2048000,
      "rowLimit": 10000
     },
     "inputWidgets": {},
     "nuid": "5a4935ac-558a-4775-b72c-896ecea7d7b2",
     "showTitle": false,
     "title": ""
    }
   },
   "outputs": [],
   "source": [
    "def pr_auc_scoring(estimator, X, y_true):\n",
    "    # Scoring function for PR AUC to handle model probability predictions\n",
    "    probas_pred = estimator.predict_proba(X)[:, 1] \n",
    "    precision, recall, _ = precision_recall_curve(y_true, probas_pred)\n",
    "    print(precision)\n",
    "    print(recall)\n",
    "    return auc(recall, precision)\n",
    "\n",
    "\n",
    "models = {\n",
    "    \"Random Forest\": RandomForestClassifier(n_estimators=100, random_state=42),\n",
    "    \"KNN\": KNeighborsClassifier(n_neighbors=5),\n",
    "    \"SVM\": SVC(probability=True, random_state=42)\n",
    "}\n",
    "\n",
    "\n",
    "def evaluate_model(model, X, y):\n",
    "    cv = StratifiedKFold(n_splits=5, shuffle=True, random_state=42)\n",
    "    \n",
    "    pr_auc_scores = cross_val_score(model, X, y, cv=cv, scoring=make_scorer(pr_auc_scoring, needs_proba=True))\n",
    "    f1_scores = cross_val_score(model, X, y, cv=cv, scoring='f1')\n",
    "    \n",
    "    return np.mean(pr_auc_scores), np.mean(f1_scores)\n",
    "\n",
    "\n",
    "def evaluate_model_performance(model_name, model, X_train, X_test, X_val, y_train, y_test, y_val):\n",
    "    print(f'Evaluating {model_name} -------------------------')\n",
    "    model.fit(X_train, y_train)\n",
    "    \n",
    "    metrics_list = []\n",
    "    \n",
    "    def calculate_metrics(X, y, dataset_name):\n",
    "        y_prob = model.predict_proba(X)[:, 1]\n",
    "        precision_vals, recall_vals, _ = precision_recall_curve(y, y_prob)\n",
    "        pr_auc = auc(recall_vals, precision_vals)\n",
    "        \n",
    "        y_pred = model.predict(X)\n",
    "        f1 = f1_score(y, y_pred)\n",
    "        accuracy = accuracy_score(y, y_pred)\n",
    "        precision = precision_score(y, y_pred)\n",
    "        recall = recall_score(y, y_pred)\n",
    "        metrics = {\n",
    "            \"Model\": model_name,\n",
    "            \"Dataset\": dataset_name,\n",
    "            \"PR AUC\": pr_auc,\n",
    "            \"F1 Score\": f1,\n",
    "            \"Accuracy\": accuracy,\n",
    "            \"Precision\": precision,\n",
    "            \"Recall\": recall,\n",
    "            \"Fitted Model\": model\n",
    "        } \n",
    "        metrics_list.append(metrics)\n",
    "\n",
    "        print(f\"{dataset_name} Sample probabilities:\", y_prob[:5])\n",
    "        print(f\"{dataset_name} PR AUC:\", pr_auc)\n",
    "        print(f\"{dataset_name} F1 Score:\", f1)\n",
    "        print(f\"{dataset_name} Accuracy:\", accuracy)\n",
    "        print(f\"{dataset_name} Precision:\", precision)\n",
    "        print(f\"{dataset_name} Recall:\", recall)\n",
    "    \n",
    "    calculate_metrics(X_test, y_test, \"Test\")\n",
    "    calculate_metrics(X_val, y_val, \"Validation\")\n",
    "    \n",
    "    return metrics_list"
   ]
  },
  {
   "cell_type": "code",
   "execution_count": 0,
   "metadata": {
    "application/vnd.databricks.v1+cell": {
     "cellMetadata": {
      "byteLimit": 2048000,
      "rowLimit": 10000
     },
     "inputWidgets": {},
     "nuid": "48324da1-2a3a-49a6-b4ee-356ba7e16ec5",
     "showTitle": false,
     "title": ""
    }
   },
   "outputs": [
    {
     "output_type": "stream",
     "name": "stdout",
     "output_type": "stream",
     "text": [
      "Evaluating Random Forest -------------------------\nTest Sample probabilities: [1.   0.04 0.27 0.12 0.32]\nTest PR AUC: 0.9820272275436217\nTest F1 Score: 0.9255663430420712\nTest Accuracy: 0.9272151898734177\nTest Precision: 0.9407894736842105\nTest Recall: 0.910828025477707\nValidation Sample probabilities: [0.06 0.12 0.16 0.1  0.1 ]\nValidation PR AUC: 0.9765399626475925\nValidation F1 Score: 0.9368421052631579\nValidation Accuracy: 0.9387755102040817\nValidation Precision: 0.967391304347826\nValidation Recall: 0.9081632653061225\nEvaluating KNN -------------------------\nTest Sample probabilities: [1.  0.  0.4 0.  0.2]\nTest PR AUC: 0.9755190970483624\nTest F1 Score: 0.9215686274509803\nTest Accuracy: 0.9240506329113924\nTest Precision: 0.9463087248322147\nTest Recall: 0.8980891719745223\nValidation Sample probabilities: [0. 0. 0. 0. 0.]\nValidation PR AUC: 0.976575831663665\nValidation F1 Score: 0.925531914893617\nValidation Accuracy: 0.9285714285714286\nValidation Precision: 0.9666666666666667\nValidation Recall: 0.8877551020408163\nEvaluating SVM -------------------------\nTest Sample probabilities: [1.         0.09881651 0.24735149 0.03777248 0.25653217]\nTest PR AUC: 0.9868975271745299\nTest F1 Score: 0.9311475409836065\nTest Accuracy: 0.9335443037974683\nTest Precision: 0.9594594594594594\nTest Recall: 0.9044585987261147\nValidation Sample probabilities: [0.0071484  0.03287317 0.0066315  0.01004386 0.01172543]\nValidation PR AUC: 0.9792213675832371\nValidation F1 Score: 0.9230769230769231\nValidation Accuracy: 0.9285714285714286\nValidation Precision: 1.0\nValidation Recall: 0.8571428571428571\n"
     ]
    }
   ],
   "source": [
    "all_metrics = []\n",
    "for model_name, model in models.items():\n",
    "    model_metrics = evaluate_model_performance(model_name, model, X_train, X_test, X_val, y_train, y_test, y_val)\n",
    "    all_metrics.extend(model_metrics)  \n",
    "\n",
    "metrics_df = pd.DataFrame(all_metrics)"
   ]
  },
  {
   "cell_type": "markdown",
   "metadata": {
    "application/vnd.databricks.v1+cell": {
     "cellMetadata": {
      "byteLimit": 2048000,
      "rowLimit": 10000
     },
     "inputWidgets": {},
     "nuid": "a3b30add-a925-4bc0-ab96-38c552d0d9ac",
     "showTitle": false,
     "title": ""
    }
   },
   "source": [
    "### Random Forest Results\n",
    "\n",
    "**Test Data**\n",
    "  - Test Sample probabilities: [0.99 0.03 0.23 0.14 0.16]\n",
    "  - Test PR AUC: 0.9793355518356972\n",
    "  - Test F1 Score: 0.9255663430420712\n",
    "  - Test Accuracy: 0.9272151898734177\n",
    "  - Test Precision: 0.9407894736842105\n",
    "  - Test Recall: 0.910828025477707\n",
    "\n",
    "**Validation Data**\n",
    "  - Validation Sample probabilities: [0.27 0.42 0.41 0.35 0.22]\n",
    "  - Validation PR AUC: 0.9792295462353696\n",
    "  - Validation F1 Score: 0.9368421052631579\n",
    "  - Validation Accuracy: 0.9387755102040817\n",
    "  - Validation Precision: 0.967391304347826\n",
    "  - Validation Recall: 0.9081632653061225\n"
   ]
  },
  {
   "cell_type": "code",
   "execution_count": 0,
   "metadata": {
    "application/vnd.databricks.v1+cell": {
     "cellMetadata": {
      "byteLimit": 2048000,
      "rowLimit": 10000
     },
     "inputWidgets": {},
     "nuid": "30fa8cbd-c8d7-4ac3-b6b2-1efd1cf009b4",
     "showTitle": false,
     "title": ""
    }
   },
   "outputs": [
    {
     "output_type": "execute_result",
     "data": {
      "text/plain": [
       "True"
      ]
     },
     "execution_count": 126,
     "metadata": {},
     "output_type": "execute_result"
    }
   ],
   "source": [
    "dbutils.fs.mount(\n",
    "  source=f\"wasbs://{container_name}@{storage_account_name}.blob.core.windows.net/\",\n",
    "  mount_point=\"/mnt/frauddetectiondata/my_plots\",\n",
    "  extra_configs={f\"fs.azure.sas.{container_name}.{storage_account_name}.blob.core.windows.net\": sas_token})\n"
   ]
  },
  {
   "cell_type": "code",
   "execution_count": 0,
   "metadata": {
    "application/vnd.databricks.v1+cell": {
     "cellMetadata": {
      "byteLimit": 2048000,
      "rowLimit": 10000
     },
     "inputWidgets": {},
     "nuid": "1ad26566-f669-48aa-a90d-da0f52c409ec",
     "showTitle": false,
     "title": ""
    }
   },
   "outputs": [
    {
     "output_type": "display_data",
     "data": {
      "image/png": "[encoded data removed]",
      "text/plain": [
       "<Figure size 1200x800 with 1 Axes>"
      ]
     },
     "metadata": {},
     "output_type": "display_data"
    }
   ],
   "source": [
    "filtered_df = metrics_df.drop(['Fitted Model'], axis=1) \n",
    "melted_df = filtered_df.melt(id_vars=[\"Model\", \"Dataset\"], var_name=\"Metric\", value_name=\"Score\")\n",
    "\n",
    "melted_df['Score'] = pd.to_numeric(melted_df['Score'], errors='coerce')\n",
    "\n",
    "if melted_df['Score'].isnull().any():\n",
    "    print(\"NaN values found in 'Score' after conversion. Investigating:\")\n",
    "    print(melted_df[melted_df['Score'].isnull()])\n",
    "\n",
    "\n",
    "\n",
    "plt.figure(figsize=(12, 8))\n",
    "sns.barplot(x='Metric', y='Score', hue='Model', data=melted_df)\n",
    "plt.title('Model Performance Comparison Across Datasets')\n",
    "plt.legend(title='Model', bbox_to_anchor=(1.05, 1), loc='upper left')\n",
    "plt.xticks(rotation=45)\n",
    "plt.tight_layout()\n",
    "\n",
    "plt.savefig('/dbfs/mnt/frauddetectiondata/my_plots/model_performance_comparison.png', bbox_inches='tight', dpi=300)\n",
    "plt.show()"
   ]
  },
  {
   "cell_type": "code",
   "execution_count": 0,
   "metadata": {
    "application/vnd.databricks.v1+cell": {
     "cellMetadata": {
      "byteLimit": 2048000,
      "rowLimit": 10000
     },
     "inputWidgets": {},
     "nuid": "734b254c-f8e0-4364-ba9d-56559914b8b8",
     "showTitle": false,
     "title": ""
    }
   },
   "outputs": [
    {
     "output_type": "display_data",
     "data": {
      "image/png": "[encoded data removed]",
      "text/plain": [
       "<Figure size 1000x600 with 2 Axes>"
      ]
     },
     "metadata": {},
     "output_type": "display_data"
    }
   ],
   "source": [
    "heatmap_data = metrics_df.pivot_table(index='Model', columns='Dataset', values=['PR AUC', 'F1 Score', 'Accuracy', 'Precision', 'Recall'], aggfunc=np.mean)\n",
    "\n",
    "plt.figure(figsize=(10, 6))\n",
    "sns.heatmap(heatmap_data, annot=True, fmt=\".2f\", cmap=\"YlGnBu\")\n",
    "plt.title('Heatmap of Model Performance Metrics')\n",
    "\n",
    "plt.savefig('/dbfs/mnt/frauddetectiondata/my_plots/model_heatmap_comparison.png', bbox_inches='tight', dpi=300)\n",
    "plt.show()"
   ]
  },
  {
   "cell_type": "markdown",
   "metadata": {
    "application/vnd.databricks.v1+cell": {
     "cellMetadata": {
      "byteLimit": 2048000,
      "rowLimit": 10000
     },
     "inputWidgets": {},
     "nuid": "ae49329c-543b-4ae7-b044-f2831968ec23",
     "showTitle": false,
     "title": ""
    }
   },
   "source": [
    "### Model Evaluation Summary:\n",
    "\n",
    "\n",
    "**SVM** showed the highest PR AUC, indicating its superior capability in distinguishing between fraudulent and non-fraudulent transactions across different thresholds. High precision suggests it's very reliable when it flags a transaction as fraudulent; however, its recall is slightly lower than Random Forest, meaning it might miss some fraudulent transactions.\n",
    "\n",
    "\n",
    "**Random Forest** presented a balanced performance across all metrics, with the highest F1 Score and very competitive PR AUC, Precision, and Recall. It offers a good balance between identifying fraudulent transactions (Recall) and minimizing false alarms (Precision).\n",
    "\n",
    "\n",
    "**KNN** had the lowest PR AUC among the three models and slightly lower performance metrics across the board compared to Random Forest and SVM, suggesting it might not be as effective in this particular context."
   ]
  },
  {
   "cell_type": "markdown",
   "metadata": {
    "application/vnd.databricks.v1+cell": {
     "cellMetadata": {
      "byteLimit": 2048000,
      "rowLimit": 10000
     },
     "inputWidgets": {},
     "nuid": "7a57e1d0-8a26-4f0a-9a87-1abd7c50b9e6",
     "showTitle": false,
     "title": ""
    }
   },
   "source": [
    "### Chosen Model"
   ]
  },
  {
   "cell_type": "markdown",
   "metadata": {
    "application/vnd.databricks.v1+cell": {
     "cellMetadata": {
      "byteLimit": 2048000,
      "rowLimit": 10000
     },
     "inputWidgets": {},
     "nuid": "4772a57f-53cd-4126-9550-7e68d1ec1156",
     "showTitle": false,
     "title": ""
    }
   },
   "source": [
    "Given the emphasis on better identifying fraudulent transactions:\n",
    "\n",
    "**Random Forest** is recommended for a balanced approach, effectively identifying fraudulent transactions while maintaining a low rate of false positives. Its competitive Recall and highest F1 Score suggest it's the most versatile model for this task, making it the preferred choice if the client seeks a balance between identifying as many fraudulent transactions as possible and maintaining user trust by not flagging too many legitimate transactions as fraudulent."
   ]
  },
  {
   "cell_type": "code",
   "execution_count": 0,
   "metadata": {
    "application/vnd.databricks.v1+cell": {
     "cellMetadata": {
      "byteLimit": 2048000,
      "rowLimit": 10000
     },
     "inputWidgets": {},
     "nuid": "c83d1dfc-e926-4b55-8a0a-3f7a21a6bb91",
     "showTitle": false,
     "title": ""
    }
   },
   "outputs": [],
   "source": [
    "param_grid = {\n",
    "    'n_estimators': [100, 250, 500],  # Number of trees in the forest\n",
    "    'max_depth': [3, 5, 8, 10, None],  # Maximum depth of the tree\n",
    "    'min_samples_split': [2, 5, 10],  # Minimum number of samples required to split a node\n",
    "    'min_samples_leaf': [1, 2, 4],  # Minimum number of samples required at each leaf node\n",
    "    'max_features': ['auto', 'sqrt']  # Number of features to consider at every split\n",
    "}\n"
   ]
  },
  {
   "cell_type": "code",
   "execution_count": 0,
   "metadata": {
    "application/vnd.databricks.v1+cell": {
     "cellMetadata": {
      "byteLimit": 2048000,
      "rowLimit": 10000
     },
     "inputWidgets": {},
     "nuid": "aa58a115-ad34-41b8-b98c-3467eab5d9af",
     "showTitle": false,
     "title": ""
    }
   },
   "outputs": [
    {
     "output_type": "stream",
     "name": "stdout",
     "output_type": "stream",
     "text": [
      "n estimators:   100\nn estimators:   250\nn estimators:   500\nBest Parameters: {'n_estimators': 100, 'max_depth': 3, 'min_samples_split': 2, 'max_features': 'auto'}\nBest PR AUC Score: 0.9721338702125906\n"
     ]
    }
   ],
   "source": [
    "best_score = 0\n",
    "best_params = None\n",
    "\n",
    "for n_estimators in param_grid['n_estimators']:\n",
    "    print('n estimators:  ', n_estimators)\n",
    "\n",
    "    for max_depth in param_grid['max_depth']:\n",
    "        for min_samples_split in param_grid['min_samples_split']:\n",
    "            \n",
    "            for max_features in param_grid['max_features']:\n",
    "            \n",
    "                model = models['Random Forest']\n",
    "\n",
    "                pr_auc_scores = []\n",
    "\n",
    "                # Perform Stratified K-Fold cross-validation\n",
    "                cv = StratifiedKFold(n_splits=5, shuffle=True, random_state=42)\n",
    "                for train_idx, test_idx in cv.split(X_train, y_train):\n",
    "                    X_cv_train, X_cv_test = X_train.iloc[train_idx], X_train.iloc[test_idx]\n",
    "                    y_cv_train, y_cv_test = y_train.iloc[train_idx], y_train.iloc[test_idx]\n",
    "\n",
    "                    model.fit(X_cv_train, y_cv_train)\n",
    "                    y_prob = model.predict_proba(X_cv_test)[:, 1]\n",
    "\n",
    "                    # Calculate PR AUC for the current fold\n",
    "                    precision, recall, _ = precision_recall_curve(y_cv_test, y_prob)\n",
    "                    pr_auc = auc(recall, precision)\n",
    "                    pr_auc_scores.append(pr_auc)\n",
    "\n",
    "                # Calculate the average PR AUC across all folds for the current parameter set\n",
    "                mean_pr_auc = np.mean(pr_auc_scores)\n",
    "\n",
    "                if mean_pr_auc > best_score:\n",
    "                    best_score = mean_pr_auc\n",
    "                    best_params = {'n_estimators': n_estimators, \n",
    "                                'max_depth': max_depth, \n",
    "                                'min_samples_split': min_samples_split,\n",
    "                                'max_features': max_features}\n",
    "\n",
    "print(\"Best Parameters:\", best_params)\n",
    "print(\"Best PR AUC Score:\", best_score)"
   ]
  },
  {
   "cell_type": "code",
   "execution_count": 0,
   "metadata": {
    "application/vnd.databricks.v1+cell": {
     "cellMetadata": {
      "byteLimit": 2048000,
      "rowLimit": 10000
     },
     "inputWidgets": {},
     "nuid": "708c79c6-faba-4cda-baaf-44b9cf8ed132",
     "showTitle": false,
     "title": ""
    }
   },
   "outputs": [],
   "source": [
    "random_forest_metrics = [metrics for metrics in all_metrics if metrics['Model'] == 'Random Forest']\n",
    "random_forest_model = random_forest_metrics[0]['Fitted Model']  # X_test model?"
   ]
  },
  {
   "cell_type": "code",
   "execution_count": 0,
   "metadata": {
    "application/vnd.databricks.v1+cell": {
     "cellMetadata": {
      "byteLimit": 2048000,
      "rowLimit": 10000
     },
     "inputWidgets": {},
     "nuid": "2f2426e6-f2a4-4ea5-b2c7-018710013c30",
     "showTitle": false,
     "title": ""
    }
   },
   "outputs": [
    {
     "output_type": "display_data",
     "data": {
      "image/png": "[encoded data removed]",
      "text/plain": [
       "<Figure size 1000x600 with 1 Axes>"
      ]
     },
     "metadata": {},
     "output_type": "display_data"
    }
   ],
   "source": [
    "rf_metrics_df = pd.DataFrame(random_forest_metrics)\n",
    "rf_metrics_melted = rf_metrics_df.melt(id_vars=['Dataset'], value_vars=['PR AUC', 'F1 Score', 'Accuracy', 'Precision', 'Recall'],\n",
    "                                       var_name='Metric', value_name='Score')\n",
    "\n",
    "plt.figure(figsize=(10, 6))\n",
    "sns.barplot(x='Metric', y='Score', hue='Dataset', data=rf_metrics_melted)\n",
    "plt.title('Random Forest Performance Metrics')\n",
    "plt.xticks(rotation=45)\n",
    "plt.show()\n"
   ]
  },
  {
   "cell_type": "code",
   "execution_count": 0,
   "metadata": {
    "application/vnd.databricks.v1+cell": {
     "cellMetadata": {
      "byteLimit": 2048000,
      "rowLimit": 10000
     },
     "inputWidgets": {},
     "nuid": "c956bc1c-37ff-4756-9364-b3be7ac38acf",
     "showTitle": false,
     "title": ""
    }
   },
   "outputs": [
    {
     "output_type": "display_data",
     "data": {
      "image/png": "[encoded data removed]",
      "text/plain": [
       "<Figure size 1200x800 with 1 Axes>"
      ]
     },
     "metadata": {},
     "output_type": "display_data"
    }
   ],
   "source": [
    "feature_names = X_train.columns  \n",
    "importances = random_forest_model.feature_importances_\n",
    "indices = np.argsort(importances)[::-1]\n",
    "\n",
    "plt.figure(figsize=(12, 8))\n",
    "sns.barplot(y=[feature_names[i] for i in indices], x=importances[indices])\n",
    "plt.title('Feature Importances - Random Forest Model')\n",
    "plt.xlabel('Relative Importance')\n",
    "\n",
    "plt.savefig('/dbfs/mnt/frauddetectiondata/my_plots/feature_importance.png', bbox_inches='tight', dpi=300)\n",
    "plt.show()\n"
   ]
  },
  {
   "cell_type": "markdown",
   "metadata": {
    "application/vnd.databricks.v1+cell": {
     "cellMetadata": {
      "byteLimit": 2048000,
      "rowLimit": 10000
     },
     "inputWidgets": {},
     "nuid": "d0342036-3999-4342-b67c-feb7eb0d3e5b",
     "showTitle": false,
     "title": ""
    }
   },
   "source": [
    "### Key Performance Indicators"
   ]
  },
  {
   "cell_type": "markdown",
   "metadata": {
    "application/vnd.databricks.v1+cell": {
     "cellMetadata": {
      "byteLimit": 2048000,
      "rowLimit": 10000
     },
     "inputWidgets": {},
     "nuid": "3b7d9eac-bc32-4167-8f84-5141c3eff5b0",
     "showTitle": false,
     "title": ""
    }
   },
   "source": [
    "### Precision Recall Curve"
   ]
  },
  {
   "cell_type": "code",
   "execution_count": 0,
   "metadata": {
    "application/vnd.databricks.v1+cell": {
     "cellMetadata": {
      "byteLimit": 2048000,
      "rowLimit": 10000
     },
     "inputWidgets": {},
     "nuid": "a6b77d37-f2cc-4e82-bd33-cecdf1f9fe17",
     "showTitle": false,
     "title": ""
    }
   },
   "outputs": [
    {
     "output_type": "display_data",
     "data": {
      "image/png": "[encoded data removed]",
      "text/plain": [
       "<Figure size 800x600 with 1 Axes>"
      ]
     },
     "metadata": {},
     "output_type": "display_data"
    }
   ],
   "source": [
    "from sklearn.metrics import precision_recall_curve\n",
    "import matplotlib.pyplot as plt\n",
    "import numpy as np\n",
    "\n",
    "# Assuming X_val, y_val are defined and the model is fitted\n",
    "y_scores = random_forest_model.predict_proba(X_val)[:, 1]  # Get the probabilities for the positive class\n",
    "precision, recall, thresholds = precision_recall_curve(y_val, y_scores)\n",
    "\n",
    "# Plotting the Precision-Recall curve\n",
    "plt.figure(figsize=(8, 6))\n",
    "plt.plot(recall, precision, marker='.', label='Random Forest')\n",
    "plt.xlabel('Recall')\n",
    "plt.ylabel('Precision')\n",
    "plt.title('Precision-Recall Curve')\n",
    "plt.legend()\n",
    "plt.grid(True)\n",
    "\n",
    "plt.savefig('/dbfs/mnt/frauddetectiondata/my_plots/precision_recall_curve.png', bbox_inches='tight', dpi=300)\n",
    "plt.show()\n"
   ]
  },
  {
   "cell_type": "code",
   "execution_count": 0,
   "metadata": {
    "application/vnd.databricks.v1+cell": {
     "cellMetadata": {
      "byteLimit": 2048000,
      "rowLimit": 10000
     },
     "inputWidgets": {},
     "nuid": "fef15187-5846-475d-9c9d-dba6c249e011",
     "showTitle": false,
     "title": ""
    }
   },
   "outputs": [
    {
     "output_type": "display_data",
     "data": {
      "image/png": "[encoded data removed]",
      "text/plain": [
       "<Figure size 1000x600 with 1 Axes>"
      ]
     },
     "metadata": {},
     "output_type": "display_data"
    }
   ],
   "source": [
    "rf_metrics_df = pd.DataFrame(random_forest_metrics)\n",
    "rf_metrics_melted = rf_metrics_df.melt(id_vars=['Dataset'], value_vars=['PR AUC', 'F1 Score', 'Accuracy', 'Precision', 'Recall'],\n",
    "                                       var_name='Metric', value_name='Score')\n",
    "\n",
    "plt.figure(figsize=(10, 6))\n",
    "sns.barplot(x='Metric', y='Score', hue='Dataset', data=rf_metrics_melted)\n",
    "plt.title('Random Forest Performance Metrics')\n",
    "plt.xticks(rotation=45)\n",
    "\n",
    "plt.savefig('/dbfs/mnt/frauddetectiondata/my_plots/rf_performance_metrics.png', bbox_inches='tight', dpi=300)\n",
    "plt.show()"
   ]
  },
  {
   "cell_type": "code",
   "execution_count": 0,
   "metadata": {
    "application/vnd.databricks.v1+cell": {
     "cellMetadata": {
      "byteLimit": 2048000,
      "rowLimit": 10000
     },
     "inputWidgets": {},
     "nuid": "8ba51117-d3ef-423c-81a4-8e8b92b5677d",
     "showTitle": false,
     "title": ""
    }
   },
   "outputs": [
    {
     "output_type": "display_data",
     "data": {
      "image/png": "[encoded data removed]",
      "text/plain": [
       "<Figure size 640x480 with 2 Axes>"
      ]
     },
     "metadata": {},
     "output_type": "display_data"
    }
   ],
   "source": [
    "from sklearn.metrics import confusion_matrix, ConfusionMatrixDisplay\n",
    "\n",
    "y_pred_val = random_forest_model.predict(X_val)\n",
    "cm = confusion_matrix(y_val, y_pred_val)\n",
    "\n",
    "disp = ConfusionMatrixDisplay(confusion_matrix=cm)\n",
    "disp.plot(cmap=plt.cm.Blues)\n",
    "plt.title('Confusion Matrix - Random Forest on Validation Set')\n",
    "\n",
    "plt.savefig('/dbfs/mnt/frauddetectiondata/my_plots/model_confusion_matrix.png', bbox_inches='tight', dpi=300)\n",
    "plt.show()\n"
   ]
  },
  {
   "cell_type": "code",
   "execution_count": 0,
   "metadata": {
    "application/vnd.databricks.v1+cell": {
     "cellMetadata": {
      "byteLimit": 2048000,
      "rowLimit": 10000
     },
     "inputWidgets": {},
     "nuid": "19c0833d-c7c8-4230-9879-70e67fdbcab5",
     "showTitle": false,
     "title": ""
    }
   },
   "outputs": [
    {
     "output_type": "display_data",
     "data": {
      "image/png": "[encoded data removed]",
      "text/plain": [
       "<Figure size 640x480 with 1 Axes>"
      ]
     },
     "metadata": {},
     "output_type": "display_data"
    }
   ],
   "source": [
    "from sklearn.metrics import confusion_matrix\n",
    "\n",
    "tn, fp, fn, tp = confusion_matrix(y_val, y_pred_val).ravel()\n",
    "fpr = fp / (fp + tn)\n",
    "\n",
    "# Visualizing FPR\n",
    "sns.barplot(x=['False Positive Rate'], y=[fpr])\n",
    "plt.title('False Positive Rate')\n",
    "plt.ylabel('Rate')\n",
    "plt.show()\n"
   ]
  },
  {
   "cell_type": "code",
   "execution_count": 0,
   "metadata": {
    "application/vnd.databricks.v1+cell": {
     "cellMetadata": {
      "byteLimit": 2048000,
      "rowLimit": 10000
     },
     "inputWidgets": {},
     "nuid": "89fcc658-1b57-418e-b9aa-1c64d7303a24",
     "showTitle": false,
     "title": ""
    }
   },
   "outputs": [
    {
     "output_type": "execute_result",
     "data": {
      "text/html": [
       "<div>\n",
       "<style scoped>\n",
       "    .dataframe tbody tr th:only-of-type {\n",
       "        vertical-align: middle;\n",
       "    }\n",
       "\n",
       "    .dataframe tbody tr th {\n",
       "        vertical-align: top;\n",
       "    }\n",
       "\n",
       "    .dataframe thead th {\n",
       "        text-align: right;\n",
       "    }\n",
       "</style>\n",
       "<table border=\"1\" class=\"dataframe\">\n",
       "  <thead>\n",
       "    <tr style=\"text-align: right;\">\n",
       "      <th></th>\n",
       "      <th>Model</th>\n",
       "      <th>Dataset</th>\n",
       "      <th>PR AUC</th>\n",
       "      <th>F1 Score</th>\n",
       "      <th>Accuracy</th>\n",
       "      <th>Precision</th>\n",
       "      <th>Recall</th>\n",
       "    </tr>\n",
       "  </thead>\n",
       "  <tbody>\n",
       "    <tr>\n",
       "      <th>0</th>\n",
       "      <td>Random Forest</td>\n",
       "      <td>Test</td>\n",
       "      <td>0.982027</td>\n",
       "      <td>0.925566</td>\n",
       "      <td>0.927215</td>\n",
       "      <td>0.940789</td>\n",
       "      <td>0.910828</td>\n",
       "    </tr>\n",
       "    <tr>\n",
       "      <th>1</th>\n",
       "      <td>Random Forest</td>\n",
       "      <td>Validation</td>\n",
       "      <td>0.976540</td>\n",
       "      <td>0.936842</td>\n",
       "      <td>0.938776</td>\n",
       "      <td>0.967391</td>\n",
       "      <td>0.908163</td>\n",
       "    </tr>\n",
       "  </tbody>\n",
       "</table>\n",
       "</div>"
      ],
      "text/plain": [
       "           Model     Dataset    PR AUC  F1 Score  Accuracy  Precision    Recall\n",
       "0  Random Forest        Test  0.982027  0.925566  0.927215   0.940789  0.910828\n",
       "1  Random Forest  Validation  0.976540  0.936842  0.938776   0.967391  0.908163"
      ]
     },
     "execution_count": 145,
     "metadata": {},
     "output_type": "execute_result"
    }
   ],
   "source": [
    "rf_metrics = rf_metrics_df.drop(['Fitted Model'], axis=1) \n",
    "rf_metrics.head()"
   ]
  },
  {
   "cell_type": "markdown",
   "metadata": {
    "application/vnd.databricks.v1+cell": {
     "cellMetadata": {},
     "inputWidgets": {},
     "nuid": "5b0e7de3-e4f4-4c5b-89f4-9c5aa2c5ee96",
     "showTitle": false,
     "title": ""
    }
   },
   "source": [
    "The Random Forest model demonstrated outstanding performance, making it a reliable choice for detecting fraudulent transactions in our dataset. Its high scores in precision and recall are particularly noteworthy because they suggest that the model can minimize false positives (incorrectly flagged legitimate transactions) while effectively identifying most fraudulent transactions. This balance is critical in fraud detection, where the cost of missing a fraudulent transaction can be very high, but so can the inconvenience and customer service implications of falsely flagging legitimate transactions as fraud."
   ]
  },
  {
   "cell_type": "markdown",
   "metadata": {
    "application/vnd.databricks.v1+cell": {
     "cellMetadata": {},
     "inputWidgets": {},
     "nuid": "c04e6a5c-c2bd-4a19-a16a-4aa44e17b2e9",
     "showTitle": false,
     "title": ""
    }
   },
   "source": [
    "## Conclusion"
   ]
  },
  {
   "cell_type": "markdown",
   "metadata": {
    "application/vnd.databricks.v1+cell": {
     "cellMetadata": {},
     "inputWidgets": {},
     "nuid": "4dfbb1b3-f3b6-4156-8b31-e64c907a5cb6",
     "showTitle": false,
     "title": ""
    }
   },
   "source": [
    "The project was executed through a series of steps, starting from data collection and preprocessing to model training and evaluation. The chosen Random Forest model demonstrated high performance across various metrics, making it an effective tool for fraud detection. \n",
    "\n",
    "The project underscored the importance of using a combination of data preprocessing techniques and machine learning algorithms to handle imbalanced datasets typically encountered in fraud detection scenarios.\n",
    "\n",
    "This project illustrates the application of machine learning techniques to a critical problem, utilizing a robust stack of tools and technologies. The project's success showcases the ability to leverage data science methodologies to derive meaningful insights and solutions."
   ]
  },
  {
   "cell_type": "markdown",
   "metadata": {
    "application/vnd.databricks.v1+cell": {
     "cellMetadata": {},
     "inputWidgets": {},
     "nuid": "627e1e4d-03d1-4ad1-a18f-f5a36efed550",
     "showTitle": false,
     "title": ""
    }
   },
   "source": [
    "## Data Upload"
   ]
  },
  {
   "cell_type": "code",
   "execution_count": 0,
   "metadata": {
    "application/vnd.databricks.v1+cell": {
     "cellMetadata": {
      "byteLimit": 2048000,
      "rowLimit": 10000
     },
     "inputWidgets": {},
     "nuid": "5730ad6f-a325-4518-b104-6cc124992678",
     "showTitle": false,
     "title": ""
    }
   },
   "outputs": [],
   "source": [
    "with open(\"/dbfs/mnt/frauddetectiondata/model_performance_comparison.png\", \"rb\") as data:\n",
    "    blob_client.upload_blob(data, overwrite=True)\n",
    "\n",
    "with open(\"/dbfs/mnt/frauddetectiondata/model_heatmap_comparison.png\", \"rb\") as data:\n",
    "    blob_client.upload_blob(data, overwrite=True)\n",
    "\n",
    "with open(\"/dbfs/mnt/frauddetectiondata/feature_importance.png\", \"rb\") as data:\n",
    "    blob_client.upload_blob(data, overwrite=True)\n",
    "\n",
    "with open(\"/dbfs/mnt/frauddetectiondata/precision_recall_curve.png\", \"rb\") as data:\n",
    "    blob_client.upload_blob(data, overwrite=True)\n",
    "\n",
    "with open(\"/dbfs/mnt/frauddetectiondata/rf_performance_metrics.png\", \"rb\") as data:\n",
    "    blob_client.upload_blob(data, overwrite=True)\n",
    "\n",
    "with open(\"/dbfs/mnt/frauddetectiondata/model_confusion_matrix.png\", \"rb\") as data:\n",
    "    blob_client.upload_blob(data, overwrite=True)"
   ]
  },
  {
   "cell_type": "code",
   "execution_count": 0,
   "metadata": {
    "application/vnd.databricks.v1+cell": {
     "cellMetadata": {
      "byteLimit": 2048000,
      "rowLimit": 10000
     },
     "inputWidgets": {},
     "nuid": "a2a4992e-a01f-442f-a851-0974224b31ae",
     "showTitle": false,
     "title": ""
    }
   },
   "outputs": [
    {
     "output_type": "display_data",
     "data": {
      "text/plain": [
       "\u001B[0;31m---------------------------------------------------------------------------\u001B[0m\n",
       "\u001B[0;31mExecutionError\u001B[0m                            Traceback (most recent call last)\n",
       "File \u001B[0;32m<command-121827896927880>, line 1\u001B[0m\n",
       "\u001B[0;32m----> 1\u001B[0m \u001B[43mdbutils\u001B[49m\u001B[38;5;241;43m.\u001B[39;49m\u001B[43mfs\u001B[49m\u001B[38;5;241;43m.\u001B[39;49m\u001B[43mmount\u001B[49m\u001B[43m(\u001B[49m\n",
       "\u001B[1;32m      2\u001B[0m \u001B[43m  \u001B[49m\u001B[43msource\u001B[49m\u001B[38;5;241;43m=\u001B[39;49m\u001B[38;5;124;43mf\u001B[39;49m\u001B[38;5;124;43m\"\u001B[39;49m\u001B[38;5;124;43mwasbs://\u001B[39;49m\u001B[38;5;132;43;01m{\u001B[39;49;00m\u001B[43mcontainer_name\u001B[49m\u001B[38;5;132;43;01m}\u001B[39;49;00m\u001B[38;5;124;43m@\u001B[39;49m\u001B[38;5;132;43;01m{\u001B[39;49;00m\u001B[43mstorage_account_name\u001B[49m\u001B[38;5;132;43;01m}\u001B[39;49;00m\u001B[38;5;124;43m.blob.core.windows.net/\u001B[39;49m\u001B[38;5;124;43m\"\u001B[39;49m\u001B[43m,\u001B[49m\n",
       "\u001B[1;32m      3\u001B[0m \u001B[43m  \u001B[49m\u001B[43mmount_point\u001B[49m\u001B[38;5;241;43m=\u001B[39;49m\u001B[38;5;124;43m\"\u001B[39;49m\u001B[38;5;124;43m/mnt/frauddetectiondata\u001B[39;49m\u001B[38;5;124;43m\"\u001B[39;49m\u001B[43m,\u001B[49m\n",
       "\u001B[1;32m      4\u001B[0m \u001B[43m  \u001B[49m\u001B[43mextra_configs\u001B[49m\u001B[38;5;241;43m=\u001B[39;49m\u001B[43m{\u001B[49m\u001B[38;5;124;43mf\u001B[39;49m\u001B[38;5;124;43m\"\u001B[39;49m\u001B[38;5;124;43mfs.azure.sas.\u001B[39;49m\u001B[38;5;132;43;01m{\u001B[39;49;00m\u001B[43mcontainer_name\u001B[49m\u001B[38;5;132;43;01m}\u001B[39;49;00m\u001B[38;5;124;43m.\u001B[39;49m\u001B[38;5;132;43;01m{\u001B[39;49;00m\u001B[43mstorage_account_name\u001B[49m\u001B[38;5;132;43;01m}\u001B[39;49;00m\u001B[38;5;124;43m.blob.core.windows.net\u001B[39;49m\u001B[38;5;124;43m\"\u001B[39;49m\u001B[43m:\u001B[49m\u001B[43m \u001B[49m\u001B[43msas_token\u001B[49m\u001B[43m}\u001B[49m\u001B[43m)\u001B[49m\n",
       "\n",
       "File \u001B[0;32m/databricks/python_shell/dbruntime/dbutils.py:362\u001B[0m, in \u001B[0;36mDBUtils.FSHandler.prettify_exception_message.<locals>.f_with_exception_handling\u001B[0;34m(*args, **kwargs)\u001B[0m\n",
       "\u001B[1;32m    360\u001B[0m exc\u001B[38;5;241m.\u001B[39m__context__ \u001B[38;5;241m=\u001B[39m \u001B[38;5;28;01mNone\u001B[39;00m\n",
       "\u001B[1;32m    361\u001B[0m exc\u001B[38;5;241m.\u001B[39m__cause__ \u001B[38;5;241m=\u001B[39m \u001B[38;5;28;01mNone\u001B[39;00m\n",
       "\u001B[0;32m--> 362\u001B[0m \u001B[38;5;28;01mraise\u001B[39;00m exc\n",
       "\n",
       "\u001B[0;31mExecutionError\u001B[0m: An error occurred while calling o2874.mount.\n",
       ": java.rmi.RemoteException: java.lang.IllegalArgumentException: requirement failed: Directory already mounted: /mnt/frauddetectiondata; nested exception is: \n",
       "\tjava.lang.IllegalArgumentException: requirement failed: Directory already mounted: /mnt/frauddetectiondata\n",
       "\tat com.databricks.backend.daemon.data.client.DbfsClient.send0(DbfsClient.scala:135)\n",
       "\tat com.databricks.backend.daemon.data.client.DbfsClient.sendIdempotent(DbfsClient.scala:69)\n",
       "\tat com.databricks.backend.daemon.dbutils.DBUtilsCore.createOrUpdateMount(DBUtilsCore.scala:1061)\n",
       "\tat com.databricks.backend.daemon.dbutils.DBUtilsCore.$anonfun$mount$1(DBUtilsCore.scala:1087)\n",
       "\tat com.databricks.logging.UsageLogging.$anonfun$recordOperation$1(UsageLogging.scala:571)\n",
       "\tat com.databricks.logging.UsageLogging.executeThunkAndCaptureResultTags$1(UsageLogging.scala:666)\n",
       "\tat com.databricks.logging.UsageLogging.$anonfun$recordOperationWithResultTags$4(UsageLogging.scala:684)\n",
       "\tat com.databricks.logging.UsageLogging.$anonfun$withAttributionContext$1(UsageLogging.scala:426)\n",
       "\tat scala.util.DynamicVariable.withValue(DynamicVariable.scala:62)\n",
       "\tat com.databricks.logging.AttributionContext$.withValue(AttributionContext.scala:196)\n",
       "\tat com.databricks.logging.UsageLogging.withAttributionContext(UsageLogging.scala:424)\n",
       "\tat com.databricks.logging.UsageLogging.withAttributionContext$(UsageLogging.scala:418)\n",
       "\tat com.databricks.backend.daemon.dbutils.FSUtils.withAttributionContext(DBUtilsCore.scala:69)\n",
       "\tat com.databricks.logging.UsageLogging.withAttributionTags(UsageLogging.scala:470)\n",
       "\tat com.databricks.logging.UsageLogging.withAttributionTags$(UsageLogging.scala:455)\n",
       "\tat com.databricks.backend.daemon.dbutils.FSUtils.withAttributionTags(DBUtilsCore.scala:69)\n",
       "\tat com.databricks.logging.UsageLogging.recordOperationWithResultTags(UsageLogging.scala:661)\n",
       "\tat com.databricks.logging.UsageLogging.recordOperationWithResultTags$(UsageLogging.scala:580)\n",
       "\tat com.databricks.backend.daemon.dbutils.FSUtils.recordOperationWithResultTags(DBUtilsCore.scala:69)\n",
       "\tat com.databricks.logging.UsageLogging.recordOperation(UsageLogging.scala:571)\n",
       "\tat com.databricks.logging.UsageLogging.recordOperation$(UsageLogging.scala:540)\n",
       "\tat com.databricks.backend.daemon.dbutils.FSUtils.recordOperation(DBUtilsCore.scala:69)\n",
       "\tat com.databricks.backend.daemon.dbutils.FSUtils.recordDbutilsFsOp(DBUtilsCore.scala:133)\n",
       "\tat com.databricks.backend.daemon.dbutils.DBUtilsCore.mount(DBUtilsCore.scala:1081)\n",
       "\tat sun.reflect.NativeMethodAccessorImpl.invoke0(Native Method)\n",
       "\tat sun.reflect.NativeMethodAccessorImpl.invoke(NativeMethodAccessorImpl.java:62)\n",
       "\tat sun.reflect.DelegatingMethodAccessorImpl.invoke(DelegatingMethodAccessorImpl.java:43)\n",
       "\tat java.lang.reflect.Method.invoke(Method.java:498)\n",
       "\tat py4j.reflection.MethodInvoker.invoke(MethodInvoker.java:244)\n",
       "\tat py4j.reflection.ReflectionEngine.invoke(ReflectionEngine.java:397)\n",
       "\tat py4j.Gateway.invoke(Gateway.java:306)\n",
       "\tat py4j.commands.AbstractCommand.invokeMethod(AbstractCommand.java:132)\n",
       "\tat py4j.commands.CallCommand.execute(CallCommand.java:79)\n",
       "\tat py4j.ClientServerConnection.waitForCommands(ClientServerConnection.java:195)\n",
       "\tat py4j.ClientServerConnection.run(ClientServerConnection.java:115)\n",
       "\tat java.lang.Thread.run(Thread.java:750)\n",
       "Caused by: java.lang.IllegalArgumentException: requirement failed: Directory already mounted: /mnt/frauddetectiondata\n",
       "\tat scala.Predef$.require(Predef.scala:281)\n",
       "\tat com.databricks.backend.daemon.data.server.DefaultMetadataManager.$anonfun$insertMount$1(MetadataManager.scala:692)\n",
       "\tat com.databricks.backend.daemon.data.server.DefaultMetadataManager.$anonfun$modifyAndVerify$2(MetadataManager.scala:1068)\n",
       "\tat scala.runtime.java8.JFunction0$mcV$sp.apply(JFunction0$mcV$sp.java:23)\n",
       "\tat com.databricks.backend.daemon.data.server.DefaultMetadataManager.withRetries(MetadataManager.scala:841)\n",
       "\tat com.databricks.backend.daemon.data.server.DefaultMetadataManager.modifyAndVerify(MetadataManager.scala:1057)\n",
       "\tat com.databricks.backend.daemon.data.server.DefaultMetadataManager.insertMount(MetadataManager.scala:700)\n",
       "\tat com.databricks.backend.daemon.data.server.handler.MountHandler.receive(MountHandler.scala:128)\n",
       "\tat com.databricks.backend.daemon.data.server.session.SessionContext.$anonfun$queryHandlers$1(SessionContext.scala:54)\n",
       "\tat com.databricks.backend.daemon.data.server.session.SessionContext.$anonfun$queryHandlers$1$adapted(SessionContext.scala:53)\n",
       "\tat scala.collection.immutable.List.foreach(List.scala:431)\n",
       "\tat com.databricks.backend.daemon.data.server.session.SessionContext.queryHandlers(SessionContext.scala:53)\n",
       "\tat com.databricks.backend.daemon.data.server.DbfsServerBackend$$anonfun$receive$4.$anonfun$applyOrElse$9(DbfsServerBackend.scala:387)\n",
       "\tat com.databricks.logging.UsageLogging.$anonfun$withAttributionContext$1(UsageLogging.scala:426)\n",
       "\tat scala.util.DynamicVariable.withValue(DynamicVariable.scala:62)\n",
       "\tat com.databricks.logging.AttributionContext$.withValue(AttributionContext.scala:216)\n",
       "\tat com.databricks.logging.UsageLogging.withAttributionContext(UsageLogging.scala:424)\n",
       "\tat com.databricks.logging.UsageLogging.withAttributionContext$(UsageLogging.scala:418)\n",
       "\tat com.databricks.rpc.ServerBackend.withAttributionContext(ServerBackend.scala:22)\n",
       "\tat com.databricks.logging.UsageLogging.withAttributionTags(UsageLogging.scala:472)\n",
       "\tat com.databricks.logging.UsageLogging.withAttributionTags$(UsageLogging.scala:455)\n",
       "\tat com.databricks.rpc.ServerBackend.withAttributionTags(ServerBackend.scala:22)\n",
       "\tat com.databricks.backend.daemon.data.server.DbfsServerBackend$$anonfun$receive$4.applyOrElse(DbfsServerBackend.scala:387)\n",
       "\tat com.databricks.backend.daemon.data.server.DbfsServerBackend$$anonfun$receive$4.applyOrElse(DbfsServerBackend.scala:327)\n",
       "\tat com.databricks.rpc.ServerBackend.$anonfun$internalReceive0$2(ServerBackend.scala:174)\n",
       "\tat com.databricks.rpc.ServerBackend$$anonfun$commonReceive$1.applyOrElse(ServerBackend.scala:200)\n",
       "\tat com.databricks.rpc.ServerBackend$$anonfun$commonReceive$1.applyOrElse(ServerBackend.scala:200)\n",
       "\tat com.databricks.rpc.ServerBackend.internalReceive0(ServerBackend.scala:171)\n",
       "\tat com.databricks.rpc.ServerBackend.$anonfun$internalReceive$1(ServerBackend.scala:147)\n",
       "\tat com.databricks.logging.UsageLogging.$anonfun$recordOperation$1(UsageLogging.scala:573)\n",
       "\tat com.databricks.logging.UsageLogging.executeThunkAndCaptureResultTags$1(UsageLogging.scala:669)\n",
       "\tat com.databricks.logging.UsageLogging.$anonfun$recordOperationWithResultTags$4(UsageLogging.scala:687)\n",
       "\tat com.databricks.logging.UsageLogging.$anonfun$withAttributionContext$1(UsageLogging.scala:426)\n",
       "\tat scala.util.DynamicVariable.withValue(DynamicVariable.scala:62)\n",
       "\tat com.databricks.logging.AttributionContext$.withValue(AttributionContext.scala:216)\n",
       "\tat com.databricks.logging.UsageLogging.withAttributionContext(UsageLogging.scala:424)\n",
       "\tat com.databricks.logging.UsageLogging.withAttributionContext$(UsageLogging.scala:418)\n",
       "\tat com.databricks.rpc.ServerBackend.withAttributionContext(ServerBackend.scala:22)\n",
       "\tat com.databricks.logging.UsageLogging.withAttributionTags(UsageLogging.scala:472)\n",
       "\tat com.databricks.logging.UsageLogging.withAttributionTags$(UsageLogging.scala:455)\n",
       "\tat com.databricks.rpc.ServerBackend.withAttributionTags(ServerBackend.scala:22)\n",
       "\tat com.databricks.logging.UsageLogging.recordOperationWithResultTags(UsageLogging.scala:664)\n",
       "\tat com.databricks.logging.UsageLogging.recordOperationWithResultTags$(UsageLogging.scala:582)\n",
       "\tat com.databricks.rpc.ServerBackend.recordOperationWithResultTags(ServerBackend.scala:22)\n",
       "\tat com.databricks.logging.UsageLogging.recordOperation(UsageLogging.scala:573)\n",
       "\tat com.databricks.logging.UsageLogging.recordOperation$(UsageLogging.scala:542)\n",
       "\tat com.databricks.rpc.ServerBackend.recordOperation(ServerBackend.scala:22)\n",
       "\tat com.databricks.rpc.ServerBackend.internalReceive(ServerBackend.scala:147)\n",
       "\tat com.databricks.rpc.JettyServer$RequestManager.handleRPC(JettyServer.scala:1020)\n",
       "\tat com.databricks.rpc.JettyServer$RequestManager.handleRequestAndRespond(JettyServer.scala:941)\n",
       "\tat com.databricks.rpc.JettyServer$RequestManager.$anonfun$handleHttp$6(JettyServer.scala:545)\n",
       "\tat com.databricks.rpc.JettyServer$RequestManager.$anonfun$handleHttp$6$adapted(JettyServer.scala:514)\n",
       "\tat com.databricks.logging.activity.ActivityContextFactory$.$anonfun$withActivityInternal$4(ActivityContextFactory.scala:405)\n",
       "\tat com.databricks.logging.UsageLogging.$anonfun$withAttributionContext$1(UsageLogging.scala:426)\n",
       "\tat scala.util.DynamicVariable.withValue(DynamicVariable.scala:62)\n",
       "\tat com.databricks.logging.AttributionContext$.withValue(AttributionContext.scala:216)\n",
       "\tat com.databricks.logging.UsageLogging.withAttributionContext(UsageLogging.scala:424)\n",
       "\tat com.databricks.logging.UsageLogging.withAttributionContext$(UsageLogging.scala:418)\n",
       "\tat com.databricks.logging.activity.ActivityContextFactory$.withAttributionContext(ActivityContextFactory.scala:58)\n",
       "\tat com.databricks.logging.activity.ActivityContextFactory$.$anonfun$withActivityInternal$1(ActivityContextFactory.scala:405)\n",
       "\tat com.databricks.context.integrity.IntegrityCheckContext$ThreadLocalStorage$.withValue(IntegrityCheckContext.scala:44)\n",
       "\tat com.databricks.logging.activity.ActivityContextFactory$.withActivityInternal(ActivityContextFactory.scala:380)\n",
       "\tat com.databricks.logging.activity.ActivityContextFactory$.withServiceRequestActivity(ActivityContextFactory.scala:159)\n",
       "\tat com.databricks.rpc.JettyServer$RequestManager.handleHttp(JettyServer.scala:514)\n",
       "\tat com.databricks.rpc.JettyServer$RequestManager.doPost(JettyServer.scala:404)\n",
       "\tat javax.servlet.http.HttpServlet.service(HttpServlet.java:665)\n",
       "\tat com.databricks.rpc.HttpServletWithPatch.service(HttpServletWithPatch.scala:33)\n",
       "\tat javax.servlet.http.HttpServlet.service(HttpServlet.java:750)\n",
       "\tat org.eclipse.jetty.servlet.ServletHolder.handle(ServletHolder.java:799)\n",
       "\tat org.eclipse.jetty.servlet.ServletHandler.doHandle(ServletHandler.java:554)\n",
       "\tat org.eclipse.jetty.server.handler.ScopedHandler.nextScope(ScopedHandler.java:190)\n",
       "\tat org.eclipse.jetty.servlet.ServletHandler.doScope(ServletHandler.java:505)\n",
       "\tat org.eclipse.jetty.server.handler.ScopedHandler.handle(ScopedHandler.java:141)\n",
       "\tat org.eclipse.jetty.server.handler.HandlerWrapper.handle(HandlerWrapper.java:127)\n",
       "\tat org.eclipse.jetty.server.Server.handle(Server.java:516)\n",
       "\tat org.eclipse.jetty.server.HttpChannel.lambda$handle$1(HttpChannel.java:487)\n",
       "\tat org.eclipse.jetty.server.HttpChannel.dispatch(HttpChannel.java:732)\n",
       "\tat org.eclipse.jetty.server.HttpChannel.handle(HttpChannel.java:479)\n",
       "\tat org.eclipse.jetty.server.HttpConnection.onFillable(HttpConnection.java:277)\n",
       "\tat org.eclipse.jetty.io.AbstractConnection$ReadCallback.succeeded(AbstractConnection.java:311)\n",
       "\tat org.eclipse.jetty.io.FillInterest.fillable(FillInterest.java:105)\n",
       "\tat org.eclipse.jetty.io.ChannelEndPoint$1.run(ChannelEndPoint.java:104)\n",
       "\tat org.eclipse.jetty.util.thread.strategy.EatWhatYouKill.runTask(EatWhatYouKill.java:338)\n",
       "\tat org.eclipse.jetty.util.thread.strategy.EatWhatYouKill.doProduce(EatWhatYouKill.java:315)\n",
       "\tat org.eclipse.jetty.util.thread.strategy.EatWhatYouKill.tryProduce(EatWhatYouKill.java:173)\n",
       "\tat org.eclipse.jetty.util.thread.strategy.EatWhatYouKill.run(EatWhatYouKill.java:131)\n",
       "\tat org.eclipse.jetty.util.thread.ReservedThreadExecutor$ReservedThread.run(ReservedThreadExecutor.java:409)\n",
       "\tat com.databricks.rpc.InstrumentedQueuedThreadPool$$anon$1.$anonfun$run$4(InstrumentedQueuedThreadPool.scala:104)\n",
       "\tat scala.runtime.java8.JFunction0$mcV$sp.apply(JFunction0$mcV$sp.java:23)\n",
       "\tat com.databricks.logging.UsageLogging.$anonfun$withAttributionContext$1(UsageLogging.scala:426)\n",
       "\tat scala.util.DynamicVariable.withValue(DynamicVariable.scala:62)\n",
       "\tat com.databricks.logging.AttributionContext$.withValue(AttributionContext.scala:216)\n",
       "\tat com.databricks.logging.UsageLogging.withAttributionContext(UsageLogging.scala:424)\n",
       "\tat com.databricks.logging.UsageLogging.withAttributionContext$(UsageLogging.scala:418)\n",
       "\tat com.databricks.rpc.InstrumentedQueuedThreadPool.withAttributionContext(InstrumentedQueuedThreadPool.scala:47)\n",
       "\tat com.databricks.rpc.InstrumentedQueuedThreadPool$$anon$1.$anonfun$run$1(InstrumentedQueuedThreadPool.scala:104)\n",
       "\tat scala.runtime.java8.JFunction0$mcV$sp.apply(JFunction0$mcV$sp.java:23)\n",
       "\tat com.databricks.instrumentation.QueuedThreadPoolInstrumenter.trackActiveThreads(QueuedThreadPoolInstrumenter.scala:66)\n",
       "\tat com.databricks.instrumentation.QueuedThreadPoolInstrumenter.trackActiveThreads$(QueuedThreadPoolInstrumenter.scala:63)\n",
       "\tat com.databricks.rpc.InstrumentedQueuedThreadPool.trackActiveThreads(InstrumentedQueuedThreadPool.scala:47)\n",
       "\tat com.databricks.rpc.InstrumentedQueuedThreadPool$$anon$1.run(InstrumentedQueuedThreadPool.scala:86)\n",
       "\tat org.eclipse.jetty.util.thread.QueuedThreadPool.runJob(QueuedThreadPool.java:883)\n",
       "\tat org.eclipse.jetty.util.thread.QueuedThreadPool$Runner.run(QueuedThreadPool.java:1034)\n",
       "\tat java.lang.Thread.run(Thread.java:833)\n"
      ]
     },
     "metadata": {
      "application/vnd.databricks.v1+output": {
       "arguments": {},
       "data": "\u001B[0;31m---------------------------------------------------------------------------\u001B[0m\n\u001B[0;31mExecutionError\u001B[0m                            Traceback (most recent call last)\nFile \u001B[0;32m<command-121827896927880>, line 1\u001B[0m\n\u001B[0;32m----> 1\u001B[0m \u001B[43mdbutils\u001B[49m\u001B[38;5;241;43m.\u001B[39;49m\u001B[43mfs\u001B[49m\u001B[38;5;241;43m.\u001B[39;49m\u001B[43mmount\u001B[49m\u001B[43m(\u001B[49m\n\u001B[1;32m      2\u001B[0m \u001B[43m  \u001B[49m\u001B[43msource\u001B[49m\u001B[38;5;241;43m=\u001B[39;49m\u001B[38;5;124;43mf\u001B[39;49m\u001B[38;5;124;43m\"\u001B[39;49m\u001B[38;5;124;43mwasbs://\u001B[39;49m\u001B[38;5;132;43;01m{\u001B[39;49;00m\u001B[43mcontainer_name\u001B[49m\u001B[38;5;132;43;01m}\u001B[39;49;00m\u001B[38;5;124;43m@\u001B[39;49m\u001B[38;5;132;43;01m{\u001B[39;49;00m\u001B[43mstorage_account_name\u001B[49m\u001B[38;5;132;43;01m}\u001B[39;49;00m\u001B[38;5;124;43m.blob.core.windows.net/\u001B[39;49m\u001B[38;5;124;43m\"\u001B[39;49m\u001B[43m,\u001B[49m\n\u001B[1;32m      3\u001B[0m \u001B[43m  \u001B[49m\u001B[43mmount_point\u001B[49m\u001B[38;5;241;43m=\u001B[39;49m\u001B[38;5;124;43m\"\u001B[39;49m\u001B[38;5;124;43m/mnt/frauddetectiondata\u001B[39;49m\u001B[38;5;124;43m\"\u001B[39;49m\u001B[43m,\u001B[49m\n\u001B[1;32m      4\u001B[0m \u001B[43m  \u001B[49m\u001B[43mextra_configs\u001B[49m\u001B[38;5;241;43m=\u001B[39;49m\u001B[43m{\u001B[49m\u001B[38;5;124;43mf\u001B[39;49m\u001B[38;5;124;43m\"\u001B[39;49m\u001B[38;5;124;43mfs.azure.sas.\u001B[39;49m\u001B[38;5;132;43;01m{\u001B[39;49;00m\u001B[43mcontainer_name\u001B[49m\u001B[38;5;132;43;01m}\u001B[39;49;00m\u001B[38;5;124;43m.\u001B[39;49m\u001B[38;5;132;43;01m{\u001B[39;49;00m\u001B[43mstorage_account_name\u001B[49m\u001B[38;5;132;43;01m}\u001B[39;49;00m\u001B[38;5;124;43m.blob.core.windows.net\u001B[39;49m\u001B[38;5;124;43m\"\u001B[39;49m\u001B[43m:\u001B[49m\u001B[43m \u001B[49m\u001B[43msas_token\u001B[49m\u001B[43m}\u001B[49m\u001B[43m)\u001B[49m\n\nFile \u001B[0;32m/databricks/python_shell/dbruntime/dbutils.py:362\u001B[0m, in \u001B[0;36mDBUtils.FSHandler.prettify_exception_message.<locals>.f_with_exception_handling\u001B[0;34m(*args, **kwargs)\u001B[0m\n\u001B[1;32m    360\u001B[0m exc\u001B[38;5;241m.\u001B[39m__context__ \u001B[38;5;241m=\u001B[39m \u001B[38;5;28;01mNone\u001B[39;00m\n\u001B[1;32m    361\u001B[0m exc\u001B[38;5;241m.\u001B[39m__cause__ \u001B[38;5;241m=\u001B[39m \u001B[38;5;28;01mNone\u001B[39;00m\n\u001B[0;32m--> 362\u001B[0m \u001B[38;5;28;01mraise\u001B[39;00m exc\n\n\u001B[0;31mExecutionError\u001B[0m: An error occurred while calling o2874.mount.\n: java.rmi.RemoteException: java.lang.IllegalArgumentException: requirement failed: Directory already mounted: /mnt/frauddetectiondata; nested exception is: \n\tjava.lang.IllegalArgumentException: requirement failed: Directory already mounted: /mnt/frauddetectiondata\n\tat com.databricks.backend.daemon.data.client.DbfsClient.send0(DbfsClient.scala:135)\n\tat com.databricks.backend.daemon.data.client.DbfsClient.sendIdempotent(DbfsClient.scala:69)\n\tat com.databricks.backend.daemon.dbutils.DBUtilsCore.createOrUpdateMount(DBUtilsCore.scala:1061)\n\tat com.databricks.backend.daemon.dbutils.DBUtilsCore.$anonfun$mount$1(DBUtilsCore.scala:1087)\n\tat com.databricks.logging.UsageLogging.$anonfun$recordOperation$1(UsageLogging.scala:571)\n\tat com.databricks.logging.UsageLogging.executeThunkAndCaptureResultTags$1(UsageLogging.scala:666)\n\tat com.databricks.logging.UsageLogging.$anonfun$recordOperationWithResultTags$4(UsageLogging.scala:684)\n\tat com.databricks.logging.UsageLogging.$anonfun$withAttributionContext$1(UsageLogging.scala:426)\n\tat scala.util.DynamicVariable.withValue(DynamicVariable.scala:62)\n\tat com.databricks.logging.AttributionContext$.withValue(AttributionContext.scala:196)\n\tat com.databricks.logging.UsageLogging.withAttributionContext(UsageLogging.scala:424)\n\tat com.databricks.logging.UsageLogging.withAttributionContext$(UsageLogging.scala:418)\n\tat com.databricks.backend.daemon.dbutils.FSUtils.withAttributionContext(DBUtilsCore.scala:69)\n\tat com.databricks.logging.UsageLogging.withAttributionTags(UsageLogging.scala:470)\n\tat com.databricks.logging.UsageLogging.withAttributionTags$(UsageLogging.scala:455)\n\tat com.databricks.backend.daemon.dbutils.FSUtils.withAttributionTags(DBUtilsCore.scala:69)\n\tat com.databricks.logging.UsageLogging.recordOperationWithResultTags(UsageLogging.scala:661)\n\tat com.databricks.logging.UsageLogging.recordOperationWithResultTags$(UsageLogging.scala:580)\n\tat com.databricks.backend.daemon.dbutils.FSUtils.recordOperationWithResultTags(DBUtilsCore.scala:69)\n\tat com.databricks.logging.UsageLogging.recordOperation(UsageLogging.scala:571)\n\tat com.databricks.logging.UsageLogging.recordOperation$(UsageLogging.scala:540)\n\tat com.databricks.backend.daemon.dbutils.FSUtils.recordOperation(DBUtilsCore.scala:69)\n\tat com.databricks.backend.daemon.dbutils.FSUtils.recordDbutilsFsOp(DBUtilsCore.scala:133)\n\tat com.databricks.backend.daemon.dbutils.DBUtilsCore.mount(DBUtilsCore.scala:1081)\n\tat sun.reflect.NativeMethodAccessorImpl.invoke0(Native Method)\n\tat sun.reflect.NativeMethodAccessorImpl.invoke(NativeMethodAccessorImpl.java:62)\n\tat sun.reflect.DelegatingMethodAccessorImpl.invoke(DelegatingMethodAccessorImpl.java:43)\n\tat java.lang.reflect.Method.invoke(Method.java:498)\n\tat py4j.reflection.MethodInvoker.invoke(MethodInvoker.java:244)\n\tat py4j.reflection.ReflectionEngine.invoke(ReflectionEngine.java:397)\n\tat py4j.Gateway.invoke(Gateway.java:306)\n\tat py4j.commands.AbstractCommand.invokeMethod(AbstractCommand.java:132)\n\tat py4j.commands.CallCommand.execute(CallCommand.java:79)\n\tat py4j.ClientServerConnection.waitForCommands(ClientServerConnection.java:195)\n\tat py4j.ClientServerConnection.run(ClientServerConnection.java:115)\n\tat java.lang.Thread.run(Thread.java:750)\nCaused by: java.lang.IllegalArgumentException: requirement failed: Directory already mounted: /mnt/frauddetectiondata\n\tat scala.Predef$.require(Predef.scala:281)\n\tat com.databricks.backend.daemon.data.server.DefaultMetadataManager.$anonfun$insertMount$1(MetadataManager.scala:692)\n\tat com.databricks.backend.daemon.data.server.DefaultMetadataManager.$anonfun$modifyAndVerify$2(MetadataManager.scala:1068)\n\tat scala.runtime.java8.JFunction0$mcV$sp.apply(JFunction0$mcV$sp.java:23)\n\tat com.databricks.backend.daemon.data.server.DefaultMetadataManager.withRetries(MetadataManager.scala:841)\n\tat com.databricks.backend.daemon.data.server.DefaultMetadataManager.modifyAndVerify(MetadataManager.scala:1057)\n\tat com.databricks.backend.daemon.data.server.DefaultMetadataManager.insertMount(MetadataManager.scala:700)\n\tat com.databricks.backend.daemon.data.server.handler.MountHandler.receive(MountHandler.scala:128)\n\tat com.databricks.backend.daemon.data.server.session.SessionContext.$anonfun$queryHandlers$1(SessionContext.scala:54)\n\tat com.databricks.backend.daemon.data.server.session.SessionContext.$anonfun$queryHandlers$1$adapted(SessionContext.scala:53)\n\tat scala.collection.immutable.List.foreach(List.scala:431)\n\tat com.databricks.backend.daemon.data.server.session.SessionContext.queryHandlers(SessionContext.scala:53)\n\tat com.databricks.backend.daemon.data.server.DbfsServerBackend$$anonfun$receive$4.$anonfun$applyOrElse$9(DbfsServerBackend.scala:387)\n\tat com.databricks.logging.UsageLogging.$anonfun$withAttributionContext$1(UsageLogging.scala:426)\n\tat scala.util.DynamicVariable.withValue(DynamicVariable.scala:62)\n\tat com.databricks.logging.AttributionContext$.withValue(AttributionContext.scala:216)\n\tat com.databricks.logging.UsageLogging.withAttributionContext(UsageLogging.scala:424)\n\tat com.databricks.logging.UsageLogging.withAttributionContext$(UsageLogging.scala:418)\n\tat com.databricks.rpc.ServerBackend.withAttributionContext(ServerBackend.scala:22)\n\tat com.databricks.logging.UsageLogging.withAttributionTags(UsageLogging.scala:472)\n\tat com.databricks.logging.UsageLogging.withAttributionTags$(UsageLogging.scala:455)\n\tat com.databricks.rpc.ServerBackend.withAttributionTags(ServerBackend.scala:22)\n\tat com.databricks.backend.daemon.data.server.DbfsServerBackend$$anonfun$receive$4.applyOrElse(DbfsServerBackend.scala:387)\n\tat com.databricks.backend.daemon.data.server.DbfsServerBackend$$anonfun$receive$4.applyOrElse(DbfsServerBackend.scala:327)\n\tat com.databricks.rpc.ServerBackend.$anonfun$internalReceive0$2(ServerBackend.scala:174)\n\tat com.databricks.rpc.ServerBackend$$anonfun$commonReceive$1.applyOrElse(ServerBackend.scala:200)\n\tat com.databricks.rpc.ServerBackend$$anonfun$commonReceive$1.applyOrElse(ServerBackend.scala:200)\n\tat com.databricks.rpc.ServerBackend.internalReceive0(ServerBackend.scala:171)\n\tat com.databricks.rpc.ServerBackend.$anonfun$internalReceive$1(ServerBackend.scala:147)\n\tat com.databricks.logging.UsageLogging.$anonfun$recordOperation$1(UsageLogging.scala:573)\n\tat com.databricks.logging.UsageLogging.executeThunkAndCaptureResultTags$1(UsageLogging.scala:669)\n\tat com.databricks.logging.UsageLogging.$anonfun$recordOperationWithResultTags$4(UsageLogging.scala:687)\n\tat com.databricks.logging.UsageLogging.$anonfun$withAttributionContext$1(UsageLogging.scala:426)\n\tat scala.util.DynamicVariable.withValue(DynamicVariable.scala:62)\n\tat com.databricks.logging.AttributionContext$.withValue(AttributionContext.scala:216)\n\tat com.databricks.logging.UsageLogging.withAttributionContext(UsageLogging.scala:424)\n\tat com.databricks.logging.UsageLogging.withAttributionContext$(UsageLogging.scala:418)\n\tat com.databricks.rpc.ServerBackend.withAttributionContext(ServerBackend.scala:22)\n\tat com.databricks.logging.UsageLogging.withAttributionTags(UsageLogging.scala:472)\n\tat com.databricks.logging.UsageLogging.withAttributionTags$(UsageLogging.scala:455)\n\tat com.databricks.rpc.ServerBackend.withAttributionTags(ServerBackend.scala:22)\n\tat com.databricks.logging.UsageLogging.recordOperationWithResultTags(UsageLogging.scala:664)\n\tat com.databricks.logging.UsageLogging.recordOperationWithResultTags$(UsageLogging.scala:582)\n\tat com.databricks.rpc.ServerBackend.recordOperationWithResultTags(ServerBackend.scala:22)\n\tat com.databricks.logging.UsageLogging.recordOperation(UsageLogging.scala:573)\n\tat com.databricks.logging.UsageLogging.recordOperation$(UsageLogging.scala:542)\n\tat com.databricks.rpc.ServerBackend.recordOperation(ServerBackend.scala:22)\n\tat com.databricks.rpc.ServerBackend.internalReceive(ServerBackend.scala:147)\n\tat com.databricks.rpc.JettyServer$RequestManager.handleRPC(JettyServer.scala:1020)\n\tat com.databricks.rpc.JettyServer$RequestManager.handleRequestAndRespond(JettyServer.scala:941)\n\tat com.databricks.rpc.JettyServer$RequestManager.$anonfun$handleHttp$6(JettyServer.scala:545)\n\tat com.databricks.rpc.JettyServer$RequestManager.$anonfun$handleHttp$6$adapted(JettyServer.scala:514)\n\tat com.databricks.logging.activity.ActivityContextFactory$.$anonfun$withActivityInternal$4(ActivityContextFactory.scala:405)\n\tat com.databricks.logging.UsageLogging.$anonfun$withAttributionContext$1(UsageLogging.scala:426)\n\tat scala.util.DynamicVariable.withValue(DynamicVariable.scala:62)\n\tat com.databricks.logging.AttributionContext$.withValue(AttributionContext.scala:216)\n\tat com.databricks.logging.UsageLogging.withAttributionContext(UsageLogging.scala:424)\n\tat com.databricks.logging.UsageLogging.withAttributionContext$(UsageLogging.scala:418)\n\tat com.databricks.logging.activity.ActivityContextFactory$.withAttributionContext(ActivityContextFactory.scala:58)\n\tat com.databricks.logging.activity.ActivityContextFactory$.$anonfun$withActivityInternal$1(ActivityContextFactory.scala:405)\n\tat com.databricks.context.integrity.IntegrityCheckContext$ThreadLocalStorage$.withValue(IntegrityCheckContext.scala:44)\n\tat com.databricks.logging.activity.ActivityContextFactory$.withActivityInternal(ActivityContextFactory.scala:380)\n\tat com.databricks.logging.activity.ActivityContextFactory$.withServiceRequestActivity(ActivityContextFactory.scala:159)\n\tat com.databricks.rpc.JettyServer$RequestManager.handleHttp(JettyServer.scala:514)\n\tat com.databricks.rpc.JettyServer$RequestManager.doPost(JettyServer.scala:404)\n\tat javax.servlet.http.HttpServlet.service(HttpServlet.java:665)\n\tat com.databricks.rpc.HttpServletWithPatch.service(HttpServletWithPatch.scala:33)\n\tat javax.servlet.http.HttpServlet.service(HttpServlet.java:750)\n\tat org.eclipse.jetty.servlet.ServletHolder.handle(ServletHolder.java:799)\n\tat org.eclipse.jetty.servlet.ServletHandler.doHandle(ServletHandler.java:554)\n\tat org.eclipse.jetty.server.handler.ScopedHandler.nextScope(ScopedHandler.java:190)\n\tat org.eclipse.jetty.servlet.ServletHandler.doScope(ServletHandler.java:505)\n\tat org.eclipse.jetty.server.handler.ScopedHandler.handle(ScopedHandler.java:141)\n\tat org.eclipse.jetty.server.handler.HandlerWrapper.handle(HandlerWrapper.java:127)\n\tat org.eclipse.jetty.server.Server.handle(Server.java:516)\n\tat org.eclipse.jetty.server.HttpChannel.lambda$handle$1(HttpChannel.java:487)\n\tat org.eclipse.jetty.server.HttpChannel.dispatch(HttpChannel.java:732)\n\tat org.eclipse.jetty.server.HttpChannel.handle(HttpChannel.java:479)\n\tat org.eclipse.jetty.server.HttpConnection.onFillable(HttpConnection.java:277)\n\tat org.eclipse.jetty.io.AbstractConnection$ReadCallback.succeeded(AbstractConnection.java:311)\n\tat org.eclipse.jetty.io.FillInterest.fillable(FillInterest.java:105)\n\tat org.eclipse.jetty.io.ChannelEndPoint$1.run(ChannelEndPoint.java:104)\n\tat org.eclipse.jetty.util.thread.strategy.EatWhatYouKill.runTask(EatWhatYouKill.java:338)\n\tat org.eclipse.jetty.util.thread.strategy.EatWhatYouKill.doProduce(EatWhatYouKill.java:315)\n\tat org.eclipse.jetty.util.thread.strategy.EatWhatYouKill.tryProduce(EatWhatYouKill.java:173)\n\tat org.eclipse.jetty.util.thread.strategy.EatWhatYouKill.run(EatWhatYouKill.java:131)\n\tat org.eclipse.jetty.util.thread.ReservedThreadExecutor$ReservedThread.run(ReservedThreadExecutor.java:409)\n\tat com.databricks.rpc.InstrumentedQueuedThreadPool$$anon$1.$anonfun$run$4(InstrumentedQueuedThreadPool.scala:104)\n\tat scala.runtime.java8.JFunction0$mcV$sp.apply(JFunction0$mcV$sp.java:23)\n\tat com.databricks.logging.UsageLogging.$anonfun$withAttributionContext$1(UsageLogging.scala:426)\n\tat scala.util.DynamicVariable.withValue(DynamicVariable.scala:62)\n\tat com.databricks.logging.AttributionContext$.withValue(AttributionContext.scala:216)\n\tat com.databricks.logging.UsageLogging.withAttributionContext(UsageLogging.scala:424)\n\tat com.databricks.logging.UsageLogging.withAttributionContext$(UsageLogging.scala:418)\n\tat com.databricks.rpc.InstrumentedQueuedThreadPool.withAttributionContext(InstrumentedQueuedThreadPool.scala:47)\n\tat com.databricks.rpc.InstrumentedQueuedThreadPool$$anon$1.$anonfun$run$1(InstrumentedQueuedThreadPool.scala:104)\n\tat scala.runtime.java8.JFunction0$mcV$sp.apply(JFunction0$mcV$sp.java:23)\n\tat com.databricks.instrumentation.QueuedThreadPoolInstrumenter.trackActiveThreads(QueuedThreadPoolInstrumenter.scala:66)\n\tat com.databricks.instrumentation.QueuedThreadPoolInstrumenter.trackActiveThreads$(QueuedThreadPoolInstrumenter.scala:63)\n\tat com.databricks.rpc.InstrumentedQueuedThreadPool.trackActiveThreads(InstrumentedQueuedThreadPool.scala:47)\n\tat com.databricks.rpc.InstrumentedQueuedThreadPool$$anon$1.run(InstrumentedQueuedThreadPool.scala:86)\n\tat org.eclipse.jetty.util.thread.QueuedThreadPool.runJob(QueuedThreadPool.java:883)\n\tat org.eclipse.jetty.util.thread.QueuedThreadPool$Runner.run(QueuedThreadPool.java:1034)\n\tat java.lang.Thread.run(Thread.java:833)\n",
       "errorSummary": "java.rmi.RemoteException: java.lang.IllegalArgumentException: requirement failed: Directory already mounted: /mnt/frauddetectiondata; nested exception is: ",
       "errorTraceType": "ansi",
       "metadata": {},
       "type": "ipynbError"
      }
     },
     "output_type": "display_data"
    }
   ],
   "source": [
    "dbutils.fs.mount(\n",
    "  source=f\"wasbs://{container_name}@{storage_account_name}.blob.core.windows.net/\",\n",
    "  mount_point=\"/mnt/frauddetectiondata\",\n",
    "  extra_configs={f\"fs.azure.sas.{container_name}.{storage_account_name}.blob.core.windows.net\": sas_token})\n"
   ]
  },
  {
   "cell_type": "code",
   "execution_count": 0,
   "metadata": {
    "application/vnd.databricks.v1+cell": {
     "cellMetadata": {
      "byteLimit": 2048000,
      "rowLimit": 10000
     },
     "inputWidgets": {},
     "nuid": "c787082a-9e34-4529-8554-def072236329",
     "showTitle": false,
     "title": ""
    }
   },
   "outputs": [],
   "source": [
    "filtered_df.to_csv('/dbfs/mnt/frauddetectiondata/fraudmodels.csv', index=False)\n",
    "\n",
    "blob_client = blob_service_client.get_blob_client(container=container_name, blob=blob_name)\n",
    "\n",
    "with open(\"/dbfs/mnt/frauddetectiondata/fraudmodels.csv\", \"rb\") as data:\n",
    "    blob_client.upload_blob(data, overwrite=True)"
   ]
  },
  {
   "cell_type": "markdown",
   "metadata": {
    "application/vnd.databricks.v1+cell": {
     "cellMetadata": {
      "byteLimit": 2048000,
      "rowLimit": 10000
     },
     "inputWidgets": {},
     "nuid": "74585ac5-b83a-433f-86c3-267529608eef",
     "showTitle": false,
     "title": ""
    }
   },
   "source": [
    "### Dashboard Visualization"
   ]
  },
  {
   "cell_type": "code",
   "execution_count": 0,
   "metadata": {
    "application/vnd.databricks.v1+cell": {
     "cellMetadata": {
      "byteLimit": 2048000,
      "rowLimit": 10000
     },
     "inputWidgets": {},
     "nuid": "d888a2e9-1ef8-4434-b0fc-cd8651ff1650",
     "showTitle": false,
     "title": ""
    }
   },
   "outputs": [
    {
     "output_type": "execute_result",
     "data": {
      "text/html": [
       "<div>\n",
       "<style scoped>\n",
       "    .dataframe tbody tr th:only-of-type {\n",
       "        vertical-align: middle;\n",
       "    }\n",
       "\n",
       "    .dataframe tbody tr th {\n",
       "        vertical-align: top;\n",
       "    }\n",
       "\n",
       "    .dataframe thead th {\n",
       "        text-align: right;\n",
       "    }\n",
       "</style>\n",
       "<table border=\"1\" class=\"dataframe\">\n",
       "  <thead>\n",
       "    <tr style=\"text-align: right;\">\n",
       "      <th></th>\n",
       "      <th>Model</th>\n",
       "      <th>Dataset</th>\n",
       "      <th>PR AUC</th>\n",
       "      <th>F1 Score</th>\n",
       "      <th>Accuracy</th>\n",
       "      <th>Precision</th>\n",
       "      <th>Recall</th>\n",
       "    </tr>\n",
       "  </thead>\n",
       "  <tbody>\n",
       "    <tr>\n",
       "      <th>0</th>\n",
       "      <td>Random Forest</td>\n",
       "      <td>Test</td>\n",
       "      <td>0.982027</td>\n",
       "      <td>0.925566</td>\n",
       "      <td>0.927215</td>\n",
       "      <td>0.940789</td>\n",
       "      <td>0.910828</td>\n",
       "    </tr>\n",
       "    <tr>\n",
       "      <th>1</th>\n",
       "      <td>Random Forest</td>\n",
       "      <td>Validation</td>\n",
       "      <td>0.976540</td>\n",
       "      <td>0.936842</td>\n",
       "      <td>0.938776</td>\n",
       "      <td>0.967391</td>\n",
       "      <td>0.908163</td>\n",
       "    </tr>\n",
       "    <tr>\n",
       "      <th>2</th>\n",
       "      <td>KNN</td>\n",
       "      <td>Test</td>\n",
       "      <td>0.975519</td>\n",
       "      <td>0.921569</td>\n",
       "      <td>0.924051</td>\n",
       "      <td>0.946309</td>\n",
       "      <td>0.898089</td>\n",
       "    </tr>\n",
       "    <tr>\n",
       "      <th>3</th>\n",
       "      <td>KNN</td>\n",
       "      <td>Validation</td>\n",
       "      <td>0.976576</td>\n",
       "      <td>0.925532</td>\n",
       "      <td>0.928571</td>\n",
       "      <td>0.966667</td>\n",
       "      <td>0.887755</td>\n",
       "    </tr>\n",
       "    <tr>\n",
       "      <th>4</th>\n",
       "      <td>SVM</td>\n",
       "      <td>Test</td>\n",
       "      <td>0.986898</td>\n",
       "      <td>0.931148</td>\n",
       "      <td>0.933544</td>\n",
       "      <td>0.959459</td>\n",
       "      <td>0.904459</td>\n",
       "    </tr>\n",
       "    <tr>\n",
       "      <th>5</th>\n",
       "      <td>SVM</td>\n",
       "      <td>Validation</td>\n",
       "      <td>0.979221</td>\n",
       "      <td>0.923077</td>\n",
       "      <td>0.928571</td>\n",
       "      <td>1.000000</td>\n",
       "      <td>0.857143</td>\n",
       "    </tr>\n",
       "  </tbody>\n",
       "</table>\n",
       "</div>"
      ],
      "text/plain": [
       "           Model     Dataset    PR AUC  F1 Score  Accuracy  Precision    Recall\n",
       "0  Random Forest        Test  0.982027  0.925566  0.927215   0.940789  0.910828\n",
       "1  Random Forest  Validation  0.976540  0.936842  0.938776   0.967391  0.908163\n",
       "2            KNN        Test  0.975519  0.921569  0.924051   0.946309  0.898089\n",
       "3            KNN  Validation  0.976576  0.925532  0.928571   0.966667  0.887755\n",
       "4            SVM        Test  0.986898  0.931148  0.933544   0.959459  0.904459\n",
       "5            SVM  Validation  0.979221  0.923077  0.928571   1.000000  0.857143"
      ]
     },
     "execution_count": 141,
     "metadata": {},
     "output_type": "execute_result"
    }
   ],
   "source": [
    "filtered_df.head(6)"
   ]
  },
  {
   "cell_type": "code",
   "execution_count": 0,
   "metadata": {
    "application/vnd.databricks.v1+cell": {
     "cellMetadata": {
      "byteLimit": 2048000,
      "rowLimit": 10000
     },
     "inputWidgets": {},
     "nuid": "4d3d82d5-7e9d-4203-b371-fc22f0f5ffe6",
     "showTitle": false,
     "title": ""
    }
   },
   "outputs": [],
   "source": [
    "# import dash\n",
    "# from dash import dcc, html\n",
    "# import plotly.graph_objs as go\n",
    "# from dash.dependencies import Input, Output\n",
    "\n",
    "# # Initialize the Dash app\n",
    "# app = dash.Dash(__name__)\n",
    "\n",
    "# # Define the layout of the app\n",
    "# app.layout = html.Div([\n",
    "#     html.H1('Random Forest Model Performance'),\n",
    "#     dcc.Graph(id='performance-graph'),\n",
    "#     html.Label([\n",
    "#         \"Metric\",\n",
    "#         dcc.Dropdown(\n",
    "#             id='metric-dropdown',\n",
    "#             options=[{'label': metric, 'value': metric} for metric in ['F1 Score', 'Accuracy', 'Precision', 'Recall']],\n",
    "#             value='F1 Score'\n",
    "#         )\n",
    "#     ])\n",
    "# ])\n",
    "\n",
    "# # Callback to update the graph based on dropdown selection\n",
    "# @app.callback(\n",
    "#     Output('performance-graph', 'figure'),\n",
    "#     [Input('metric-dropdown', 'value')]\n",
    "# )\n",
    "# def update_graph(selected_metric):\n",
    "#     # Filter the DataFrame based on the selected metric\n",
    "#     filtered_df = metrics_df[['Model', 'Dataset', selected_metric]]\n",
    "    \n",
    "#     # Create a bar chart\n",
    "#     fig = go.Figure()\n",
    "#     for dataset in filtered_df['Dataset'].unique():\n",
    "#         df_subset = filtered_df[filtered_df['Dataset'] == dataset]\n",
    "#         fig.add_trace(go.Bar(x=df_subset['Model'], y=df_subset[selected_metric], name=dataset))\n",
    "    \n",
    "#     fig.update_layout(barmode='group', title=f'Random Forest Model {selected_metric} Comparison')\n",
    "#     return fig\n",
    "\n",
    "# # Run the app\n",
    "# if __name__ == '__main__':\n",
    "#     app.run_server(debug=True)\n"
   ]
  }
 ],
 "metadata": {
  "application/vnd.databricks.v1+notebook": {
   "dashboards": [
    {
     "elements": [
      {
       "dashboardResultIndex": null,
       "elementNUID": "9e6b949d-5cc8-42da-8423-8330f281d1fc",
       "elementType": "command",
       "guid": "04ef1fde-1849-45c3-96f0-69ea6f7bb5db",
       "options": null,
       "position": {
        "height": 2,
        "width": 12,
        "x": 0,
        "y": 18,
        "z": null
       },
       "resultIndex": null
      },
      {
       "dashboardResultIndex": null,
       "elementNUID": "74585ac5-b83a-433f-86c3-267529608eef",
       "elementType": "command",
       "guid": "0843dcff-a04a-4070-aa62-cd77ac1e7db2",
       "options": null,
       "position": {
        "height": 2,
        "width": 12,
        "x": 0,
        "y": 116,
        "z": null
       },
       "resultIndex": null
      },
      {
       "dashboardResultIndex": null,
       "elementNUID": "fef15187-5846-475d-9c9d-dba6c249e011",
       "elementType": "command",
       "guid": "18c35948-c483-4079-940c-790b819ebf7c",
       "options": null,
       "position": {
        "height": 8,
        "width": 12,
        "x": 0,
        "y": 91,
        "z": null
       },
       "resultIndex": null
      },
      {
       "dashboardResultIndex": null,
       "elementNUID": "4772a57f-53cd-4126-9550-7e68d1ec1156",
       "elementType": "command",
       "guid": "200ab2f4-7e54-4b03-b130-4093d0d7ba0e",
       "options": null,
       "position": {
        "height": 6,
        "width": 12,
        "x": 0,
        "y": 57,
        "z": null
       },
       "resultIndex": null
      },
      {
       "dashboardResultIndex": null,
       "elementNUID": "734b254c-f8e0-4364-ba9d-56559914b8b8",
       "elementType": "command",
       "guid": "24bd15b2-acfa-4147-bf44-adf5a8eac8db",
       "options": null,
       "position": {
        "height": 9,
        "width": 12,
        "x": 0,
        "y": 34,
        "z": null
       },
       "resultIndex": null
      },
      {
       "dashboardResultIndex": null,
       "elementNUID": "d888a2e9-1ef8-4434-b0fc-cd8651ff1650",
       "elementType": "command",
       "guid": "43464be2-3dd0-4d16-9493-57dc92a22703",
       "options": null,
       "position": {
        "height": 7,
        "width": 12,
        "x": 0,
        "y": 118,
        "z": null
       },
       "resultIndex": null
      },
      {
       "dashboardResultIndex": null,
       "elementNUID": "2394e668-24b4-4719-b4d9-76020bf689d0",
       "elementType": "command",
       "guid": "57487bfc-7072-418e-acd0-7437a25b0ec3",
       "options": null,
       "position": {
        "height": 2,
        "width": 12,
        "x": 0,
        "y": 22,
        "z": null
       },
       "resultIndex": null
      },
      {
       "dashboardResultIndex": null,
       "elementNUID": "d3126ef7-b869-422b-9b87-6bc7c7be54fa",
       "elementType": "command",
       "guid": "5dcbcdb2-52f0-4236-b371-b8b7d13e3cec",
       "options": null,
       "position": {
        "height": 2,
        "width": 12,
        "x": 0,
        "y": 20,
        "z": null
       },
       "resultIndex": null
      },
      {
       "dashboardResultIndex": null,
       "elementNUID": "a1a296a9-6b9b-45d7-a2d4-a15847d1997c",
       "elementType": "command",
       "guid": "6013ba07-738b-4b9b-8de6-4b9be9b1b596",
       "options": null,
       "position": {
        "height": 2,
        "width": 12,
        "x": 0,
        "y": 16,
        "z": null
       },
       "resultIndex": null
      },
      {
       "dashboardResultIndex": null,
       "elementNUID": "3b7d9eac-bc32-4167-8f84-5141c3eff5b0",
       "elementType": "command",
       "guid": "6ae0dcb8-1c33-41b0-9c0d-f8810637dee9",
       "options": null,
       "position": {
        "height": 2,
        "width": 12,
        "x": 0,
        "y": 83,
        "z": null
       },
       "resultIndex": null
      },
      {
       "dashboardResultIndex": null,
       "elementNUID": "7df69f7f-b6e3-4c89-9d44-019139cef493",
       "elementType": "command",
       "guid": "866e6a32-81f9-4be2-9503-c2d9873dda00",
       "options": null,
       "position": {
        "height": 2,
        "width": 12,
        "x": 0,
        "y": 0,
        "z": null
       },
       "resultIndex": null
      },
      {
       "dashboardResultIndex": null,
       "elementNUID": "345e622c-99e3-434e-a1a6-46a9099a71cf",
       "elementType": "command",
       "guid": "86e6e485-2ac8-487d-923d-9867d063dc05",
       "options": null,
       "position": {
        "height": 2,
        "width": 12,
        "x": 0,
        "y": 2,
        "z": null
       },
       "resultIndex": null
      },
      {
       "dashboardResultIndex": null,
       "elementNUID": "8ba51117-d3ef-423c-81a4-8e8b92b5677d",
       "elementType": "command",
       "guid": "8ef61eef-5b28-4d71-a69e-8063326f1884",
       "options": null,
       "position": {
        "height": 11,
        "width": 13,
        "x": 0,
        "y": 99,
        "z": null
       },
       "resultIndex": null
      },
      {
       "dashboardResultIndex": null,
       "elementNUID": "d0342036-3999-4342-b67c-feb7eb0d3e5b",
       "elementType": "command",
       "guid": "8f7483ba-1906-4bff-a39f-46b910eeb86f",
       "options": null,
       "position": {
        "height": 2,
        "width": 12,
        "x": 0,
        "y": 81,
        "z": null
       },
       "resultIndex": null
      },
      {
       "dashboardResultIndex": null,
       "elementNUID": "830fa735-0a7a-43bd-aabe-76eedcf3fbc3",
       "elementType": "command",
       "guid": "9b740711-ee30-4b98-b07e-eae7ff7c06ba",
       "options": null,
       "position": {
        "height": 2,
        "width": 12,
        "x": 0,
        "y": 14,
        "z": null
       },
       "resultIndex": null
      },
      {
       "dashboardResultIndex": null,
       "elementNUID": "2f2426e6-f2a4-4ea5-b2c7-018710013c30",
       "elementType": "command",
       "guid": "a3261afc-37e3-4d71-ae36-46f04dcb8ddc",
       "options": null,
       "position": {
        "height": 9,
        "width": 13,
        "x": 0,
        "y": 63,
        "z": null
       },
       "resultIndex": null
      },
      {
       "dashboardResultIndex": null,
       "elementNUID": "2bb76466-f4e3-469c-855b-187066872c5b",
       "elementType": "command",
       "guid": "adee14ed-9d88-4e06-98d0-c4b6dd8ca0b5",
       "options": null,
       "position": {
        "height": 2,
        "width": 12,
        "x": 0,
        "y": 24,
        "z": null
       },
       "resultIndex": null
      },
      {
       "dashboardResultIndex": null,
       "elementNUID": "19c0833d-c7c8-4230-9879-70e67fdbcab5",
       "elementType": "command",
       "guid": "b5af8b58-487e-444c-be6a-45e22600bb99",
       "options": null,
       "position": {
        "height": 6,
        "width": 12,
        "x": 0,
        "y": 110,
        "z": null
       },
       "resultIndex": null
      },
      {
       "dashboardResultIndex": null,
       "elementNUID": "7a57e1d0-8a26-4f0a-9a87-1abd7c50b9e6",
       "elementType": "command",
       "guid": "b5b043e8-dc19-4385-9358-72f0cd67135e",
       "options": null,
       "position": {
        "height": 2,
        "width": 12,
        "x": 0,
        "y": 55,
        "z": null
       },
       "resultIndex": null
      },
      {
       "dashboardResultIndex": null,
       "elementNUID": "1f0917d7-9ace-4466-8817-569e4def6b6d",
       "elementType": "command",
       "guid": "ce0d8440-5754-43eb-9a63-be097afb834d",
       "options": null,
       "position": {
        "height": 2,
        "width": 12,
        "x": 0,
        "y": 12,
        "z": null
       },
       "resultIndex": null
      },
      {
       "dashboardResultIndex": null,
       "elementNUID": "ae49329c-543b-4ae7-b044-f2831968ec23",
       "elementType": "command",
       "guid": "d5b67301-c341-413b-a32c-103ab0bac94c",
       "options": null,
       "position": {
        "height": 12,
        "width": 12,
        "x": 0,
        "y": 43,
        "z": null
       },
       "resultIndex": null
      },
      {
       "dashboardResultIndex": null,
       "elementNUID": "a6b77d37-f2cc-4e82-bd33-cecdf1f9fe17",
       "elementType": "command",
       "guid": "d661df82-9441-4c03-8807-2d826d4ffbf7",
       "options": null,
       "position": {
        "height": 6,
        "width": 12,
        "x": 0,
        "y": 85,
        "z": null
       },
       "resultIndex": null
      },
      {
       "dashboardResultIndex": null,
       "elementNUID": "be19cdab-b0e2-4426-8b0a-bc6dbd6861d6",
       "elementType": "command",
       "guid": "d9ea3d27-839a-4df2-9377-38046473bd02",
       "options": null,
       "position": {
        "height": 2,
        "width": 12,
        "x": 0,
        "y": 4,
        "z": null
       },
       "resultIndex": null
      },
      {
       "dashboardResultIndex": null,
       "elementNUID": "c956bc1c-37ff-4756-9364-b3be7ac38acf",
       "elementType": "command",
       "guid": "deed6150-3acc-40a6-9772-8106b40837b7",
       "options": null,
       "position": {
        "height": 9,
        "width": 13,
        "x": 0,
        "y": 72,
        "z": null
       },
       "resultIndex": null
      },
      {
       "dashboardResultIndex": null,
       "elementNUID": "54e59f6c-5169-40c7-87e6-6c9cc6d3e5c7",
       "elementType": "command",
       "guid": "df578954-0f1d-4d72-9d05-6082fb3cf905",
       "options": null,
       "position": {
        "height": 6,
        "width": 12,
        "x": 0,
        "y": 6,
        "z": null
       },
       "resultIndex": null
      },
      {
       "dashboardResultIndex": null,
       "elementNUID": "1ad26566-f669-48aa-a90d-da0f52c409ec",
       "elementType": "command",
       "guid": "e6a9da1c-41f0-4068-a469-536642b17a08",
       "options": null,
       "position": {
        "height": 8,
        "width": 12,
        "x": 0,
        "y": 26,
        "z": null
       },
       "resultIndex": null
      }
     ],
     "globalVars": {},
     "guid": "",
     "layoutOption": {
      "grid": true,
      "stack": true
     },
     "nuid": "9a821126-649c-4ccc-97f7-d79c8fb9904d",
     "origId": 121827896927874,
     "title": "Model Analysis",
     "version": "DashboardViewV1",
     "width": 1024
    }
   ],
   "language": "python",
   "notebookMetadata": {
    "pythonIndentUnit": 4
   },
   "notebookName": "Fraud Detection & Monitoring",
   "widgets": {}
  }
 },
 "nbformat": 4,
 "nbformat_minor": 0
}
