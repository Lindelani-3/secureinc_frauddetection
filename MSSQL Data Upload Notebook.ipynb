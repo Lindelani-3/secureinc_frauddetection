{
 "cells": [
  {
   "cell_type": "markdown",
   "id": "e7b0359f",
   "metadata": {},
   "source": [
    "## Import Data"
   ]
  },
  {
   "cell_type": "code",
   "execution_count": 10,
   "id": "a4898513",
   "metadata": {},
   "outputs": [
    {
     "data": {
      "text/html": [
       "<div>\n",
       "<style scoped>\n",
       "    .dataframe tbody tr th:only-of-type {\n",
       "        vertical-align: middle;\n",
       "    }\n",
       "\n",
       "    .dataframe tbody tr th {\n",
       "        vertical-align: top;\n",
       "    }\n",
       "\n",
       "    .dataframe thead th {\n",
       "        text-align: right;\n",
       "    }\n",
       "</style>\n",
       "<table border=\"1\" class=\"dataframe\">\n",
       "  <thead>\n",
       "    <tr style=\"text-align: right;\">\n",
       "      <th></th>\n",
       "      <th>Unnamed: 0</th>\n",
       "      <th>Time</th>\n",
       "      <th>V1</th>\n",
       "      <th>V2</th>\n",
       "      <th>V3</th>\n",
       "      <th>V4</th>\n",
       "      <th>V5</th>\n",
       "      <th>V6</th>\n",
       "      <th>V7</th>\n",
       "      <th>V8</th>\n",
       "      <th>...</th>\n",
       "      <th>V21</th>\n",
       "      <th>V22</th>\n",
       "      <th>V23</th>\n",
       "      <th>V24</th>\n",
       "      <th>V25</th>\n",
       "      <th>V26</th>\n",
       "      <th>V27</th>\n",
       "      <th>V28</th>\n",
       "      <th>Amount</th>\n",
       "      <th>Amount_Log</th>\n",
       "    </tr>\n",
       "  </thead>\n",
       "  <tbody>\n",
       "    <tr>\n",
       "      <th>0</th>\n",
       "      <td>256</td>\n",
       "      <td>0.362386</td>\n",
       "      <td>0.964707</td>\n",
       "      <td>0.602616</td>\n",
       "      <td>0.932984</td>\n",
       "      <td>0.309752</td>\n",
       "      <td>0.610791</td>\n",
       "      <td>0.520977</td>\n",
       "      <td>0.876857</td>\n",
       "      <td>0.674360</td>\n",
       "      <td>...</td>\n",
       "      <td>0.454558</td>\n",
       "      <td>0.515123</td>\n",
       "      <td>0.558452</td>\n",
       "      <td>0.769879</td>\n",
       "      <td>0.511819</td>\n",
       "      <td>0.229505</td>\n",
       "      <td>0.477578</td>\n",
       "      <td>0.608925</td>\n",
       "      <td>0.004699</td>\n",
       "      <td>0.563112</td>\n",
       "    </tr>\n",
       "    <tr>\n",
       "      <th>1</th>\n",
       "      <td>620</td>\n",
       "      <td>0.205780</td>\n",
       "      <td>0.831718</td>\n",
       "      <td>0.652632</td>\n",
       "      <td>0.802361</td>\n",
       "      <td>0.310638</td>\n",
       "      <td>0.593069</td>\n",
       "      <td>0.403361</td>\n",
       "      <td>0.826465</td>\n",
       "      <td>0.642857</td>\n",
       "      <td>...</td>\n",
       "      <td>0.492105</td>\n",
       "      <td>0.464829</td>\n",
       "      <td>0.550568</td>\n",
       "      <td>0.689563</td>\n",
       "      <td>0.464960</td>\n",
       "      <td>0.385459</td>\n",
       "      <td>0.452902</td>\n",
       "      <td>0.433316</td>\n",
       "      <td>0.028506</td>\n",
       "      <td>0.709998</td>\n",
       "    </tr>\n",
       "    <tr>\n",
       "      <th>2</th>\n",
       "      <td>377</td>\n",
       "      <td>0.359809</td>\n",
       "      <td>0.961242</td>\n",
       "      <td>0.605197</td>\n",
       "      <td>0.913049</td>\n",
       "      <td>0.323260</td>\n",
       "      <td>0.627224</td>\n",
       "      <td>0.501816</td>\n",
       "      <td>0.891868</td>\n",
       "      <td>0.671366</td>\n",
       "      <td>...</td>\n",
       "      <td>0.455148</td>\n",
       "      <td>0.517101</td>\n",
       "      <td>0.557534</td>\n",
       "      <td>0.846852</td>\n",
       "      <td>0.528767</td>\n",
       "      <td>0.243458</td>\n",
       "      <td>0.475159</td>\n",
       "      <td>0.607139</td>\n",
       "      <td>0.025693</td>\n",
       "      <td>0.701531</td>\n",
       "    </tr>\n",
       "    <tr>\n",
       "      <th>3</th>\n",
       "      <td>327</td>\n",
       "      <td>0.399656</td>\n",
       "      <td>0.837120</td>\n",
       "      <td>0.592037</td>\n",
       "      <td>0.926691</td>\n",
       "      <td>0.273051</td>\n",
       "      <td>0.632991</td>\n",
       "      <td>0.466999</td>\n",
       "      <td>0.874348</td>\n",
       "      <td>0.684448</td>\n",
       "      <td>...</td>\n",
       "      <td>0.455594</td>\n",
       "      <td>0.564454</td>\n",
       "      <td>0.586359</td>\n",
       "      <td>0.798082</td>\n",
       "      <td>0.493727</td>\n",
       "      <td>0.447265</td>\n",
       "      <td>0.460441</td>\n",
       "      <td>0.589784</td>\n",
       "      <td>0.007009</td>\n",
       "      <td>0.595674</td>\n",
       "    </tr>\n",
       "    <tr>\n",
       "      <th>4</th>\n",
       "      <td>465</td>\n",
       "      <td>0.819944</td>\n",
       "      <td>0.736374</td>\n",
       "      <td>0.561454</td>\n",
       "      <td>0.755893</td>\n",
       "      <td>0.373028</td>\n",
       "      <td>0.617309</td>\n",
       "      <td>0.506490</td>\n",
       "      <td>0.805800</td>\n",
       "      <td>0.708965</td>\n",
       "      <td>...</td>\n",
       "      <td>0.482452</td>\n",
       "      <td>0.587897</td>\n",
       "      <td>0.522689</td>\n",
       "      <td>0.178650</td>\n",
       "      <td>0.450828</td>\n",
       "      <td>0.356384</td>\n",
       "      <td>0.532442</td>\n",
       "      <td>0.454494</td>\n",
       "      <td>0.092038</td>\n",
       "      <td>0.805536</td>\n",
       "    </tr>\n",
       "  </tbody>\n",
       "</table>\n",
       "<p>5 rows × 32 columns</p>\n",
       "</div>"
      ],
      "text/plain": [
       "   Unnamed: 0      Time        V1        V2        V3        V4        V5  \\\n",
       "0         256  0.362386  0.964707  0.602616  0.932984  0.309752  0.610791   \n",
       "1         620  0.205780  0.831718  0.652632  0.802361  0.310638  0.593069   \n",
       "2         377  0.359809  0.961242  0.605197  0.913049  0.323260  0.627224   \n",
       "3         327  0.399656  0.837120  0.592037  0.926691  0.273051  0.632991   \n",
       "4         465  0.819944  0.736374  0.561454  0.755893  0.373028  0.617309   \n",
       "\n",
       "         V6        V7        V8  ...       V21       V22       V23       V24  \\\n",
       "0  0.520977  0.876857  0.674360  ...  0.454558  0.515123  0.558452  0.769879   \n",
       "1  0.403361  0.826465  0.642857  ...  0.492105  0.464829  0.550568  0.689563   \n",
       "2  0.501816  0.891868  0.671366  ...  0.455148  0.517101  0.557534  0.846852   \n",
       "3  0.466999  0.874348  0.684448  ...  0.455594  0.564454  0.586359  0.798082   \n",
       "4  0.506490  0.805800  0.708965  ...  0.482452  0.587897  0.522689  0.178650   \n",
       "\n",
       "        V25       V26       V27       V28    Amount  Amount_Log  \n",
       "0  0.511819  0.229505  0.477578  0.608925  0.004699    0.563112  \n",
       "1  0.464960  0.385459  0.452902  0.433316  0.028506    0.709998  \n",
       "2  0.528767  0.243458  0.475159  0.607139  0.025693    0.701531  \n",
       "3  0.493727  0.447265  0.460441  0.589784  0.007009    0.595674  \n",
       "4  0.450828  0.356384  0.532442  0.454494  0.092038    0.805536  \n",
       "\n",
       "[5 rows x 32 columns]"
      ]
     },
     "execution_count": 10,
     "metadata": {},
     "output_type": "execute_result"
    }
   ],
   "source": [
    "import pandas as pd\n",
    "\n",
    "\n",
    "csv_path = \"./data/X_train.csv\"\n",
    "df = pd.read_csv(csv_path)\n",
    "df.head()"
   ]
  },
  {
   "cell_type": "markdown",
   "id": "3c6a90b1",
   "metadata": {},
   "source": [
    "## MS SQL Upload"
   ]
  },
  {
   "cell_type": "code",
   "execution_count": 11,
   "id": "3f879381",
   "metadata": {},
   "outputs": [
    {
     "data": {
      "text/plain": [
       "['SQL Server',\n",
       " 'Microsoft Access Driver (*.mdb, *.accdb)',\n",
       " 'Microsoft Excel Driver (*.xls, *.xlsx, *.xlsm, *.xlsb)',\n",
       " 'Microsoft Access Text Driver (*.txt, *.csv)',\n",
       " 'ODBC Driver 17 for SQL Server',\n",
       " 'SQL Server Native Client RDA 11.0',\n",
       " 'ODBC Driver 18 for SQL Server']"
      ]
     },
     "execution_count": 11,
     "metadata": {},
     "output_type": "execute_result"
    }
   ],
   "source": [
    "import pyodbc\n",
    "from sqlalchemy import create_engine\n",
    "\n",
    "pyodbc.drivers()"
   ]
  },
  {
   "cell_type": "code",
   "execution_count": 16,
   "id": "7e2d0ac0",
   "metadata": {},
   "outputs": [
    {
     "name": "stdout",
     "output_type": "stream",
     "text": [
      "Connected to database successfully!\n"
     ]
    }
   ],
   "source": [
    "server = 'DESKTOP-5EVT2A9\\DEVSERVER2024'\n",
    "database = 'frauddetectioncc'  \n",
    "username = 'sa'  \n",
    "password = '$Lindelani3'  \n",
    "\n",
    "# For Windows Authentication\n",
    "# connection_string = f\"DRIVER={{ODBC Driver 18 for SQL Server}};SERVER={server};DATABASE={database};Trusted_Connection=yes;\"\n",
    "\n",
    "# SQL Server Authentication\n",
    "connection_string = f\"DRIVER={{ODBC Driver 17 for SQL Server}};SERVER={server};DATABASE={database};UID={username};PWD={password}\"\n",
    "\n",
    "# Establish connection\n",
    "cnxn = pyodbc.connect(connection_string)\n",
    "cursor = cnxn.cursor()\n",
    "\n",
    "print(\"Connected to database successfully!\")"
   ]
  },
  {
   "cell_type": "code",
   "execution_count": 17,
   "id": "ac6377c4",
   "metadata": {},
   "outputs": [],
   "source": [
    "engine = create_engine(\"mssql+pyodbc://\", creator=lambda: cnxn)"
   ]
  },
  {
   "cell_type": "code",
   "execution_count": 14,
   "id": "10b6cb77",
   "metadata": {},
   "outputs": [
    {
     "name": "stdout",
     "output_type": "stream",
     "text": [
      "Data uploaded to table XTrain.\n"
     ]
    }
   ],
   "source": [
    "table_name = 'XTrain'\n",
    "\n",
    "# Upload DataFrame to SQL Server\n",
    "df.to_sql(name=table_name, con=engine, if_exists='replace', index=False, chunksize=500)\n",
    "\n",
    "print(f\"Data uploaded to table {table_name}.\")"
   ]
  },
  {
   "cell_type": "code",
   "execution_count": 18,
   "id": "05e18881",
   "metadata": {},
   "outputs": [
    {
     "name": "stdout",
     "output_type": "stream",
     "text": [
      "Data uploaded to table FraudModels.\n"
     ]
    }
   ],
   "source": [
    "csv_path = \"./data/fraudmodels.csv\"\n",
    "df = pd.read_csv(csv_path)\n",
    "table_name = 'FraudModels'\n",
    "\n",
    "# Upload DataFrame to SQL Server\n",
    "df.to_sql(name=table_name, con=engine, if_exists='replace', index=False, chunksize=500)\n",
    "\n",
    "print(f\"Data uploaded to table {table_name}.\")"
   ]
  },
  {
   "cell_type": "markdown",
   "id": "5362ea13",
   "metadata": {},
   "source": [
    "## Dash Dashboard"
   ]
  },
  {
   "cell_type": "code",
   "execution_count": null,
   "id": "ed115ddc",
   "metadata": {},
   "outputs": [],
   "source": [
    "# import dash\n",
    "# from dash import dcc, html\n",
    "# import plotly.graph_objs as go\n",
    "# from dash.dependencies import Input, Output\n",
    "\n",
    "# # Initialize the Dash app\n",
    "# app = dash.Dash(__name__)\n",
    "\n",
    "# # Define the layout of the app\n",
    "# app.layout = html.Div([\n",
    "#     html.H1('Random Forest Model Performance'),\n",
    "#     dcc.Graph(id='performance-graph'),\n",
    "#     html.Label([\n",
    "#         \"Metric\",\n",
    "#         dcc.Dropdown(\n",
    "#             id='metric-dropdown',\n",
    "#             options=[{'label': metric, 'value': metric} for metric in ['F1 Score', 'Accuracy', 'Precision', 'Recall']],\n",
    "#             value='F1 Score'\n",
    "#         )\n",
    "#     ])\n",
    "# ])\n",
    "\n",
    "# # Callback to update the graph based on dropdown selection\n",
    "# @app.callback(\n",
    "#     Output('performance-graph', 'figure'),\n",
    "#     [Input('metric-dropdown', 'value')]\n",
    "# )\n",
    "# def update_graph(selected_metric):\n",
    "#     # Filter the DataFrame based on the selected metric\n",
    "#     filtered_df = metrics_df[['Model', 'Dataset', selected_metric]]\n",
    "    \n",
    "#     # Create a bar chart\n",
    "#     fig = go.Figure()\n",
    "#     for dataset in filtered_df['Dataset'].unique():\n",
    "#         df_subset = filtered_df[filtered_df['Dataset'] == dataset]\n",
    "#         fig.add_trace(go.Bar(x=df_subset['Model'], y=df_subset[selected_metric], name=dataset))\n",
    "    \n",
    "#     fig.update_layout(barmode='group', title=f'Random Forest Model {selected_metric} Comparison')\n",
    "#     return fig\n",
    "\n",
    "# # Run the app\n",
    "# if __name__ == '__main__':\n",
    "#     app.run_server(debug=True)\n"
   ]
  }
 ],
 "metadata": {
  "kernelspec": {
   "display_name": "Python 3 (ipykernel)",
   "language": "python",
   "name": "python3"
  },
  "language_info": {
   "codemirror_mode": {
    "name": "ipython",
    "version": 3
   },
   "file_extension": ".py",
   "mimetype": "text/x-python",
   "name": "python",
   "nbconvert_exporter": "python",
   "pygments_lexer": "ipython3",
   "version": "3.11.4"
  }
 },
 "nbformat": 4,
 "nbformat_minor": 5
}
